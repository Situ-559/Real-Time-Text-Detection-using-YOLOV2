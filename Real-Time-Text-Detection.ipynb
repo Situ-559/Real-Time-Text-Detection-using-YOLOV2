


#clone your own repository

#https://github.com/kaish114/darkflow
Cloning into 'darkflow'...
remote: Enumerating objects: 3, done.
remote: Counting objects: 100% (3/3), done.
remote: Compressing objects: 100% (2/2), done.
remote: Total 2801 (delta 0), reused 0 (delta 0), pack-reused 2798
Receiving objects: 100% (2801/2801), 35.98 MiB | 3.64 MiB/s, done.
Resolving deltas: 100% (1803/1803), done.
In [2]:
cd ./darkflow/
/content/darkflow
In [3]:
ls
cfg/   darkflow/  flow*       LICENSE      README.md    setup.py  YOLO.ipynb
ckpt/  demo.gif   labels.txt  preview.png  sample_img/  test/
In [4]:
! python3 setup.py build_ext --inplace
Compiling darkflow/cython_utils/nms.pyx because it changed.
Compiling darkflow/cython_utils/cy_yolo2_findboxes.pyx because it changed.
Compiling darkflow/cython_utils/cy_yolo_findboxes.pyx because it changed.
[1/3] Cythonizing darkflow/cython_utils/cy_yolo2_findboxes.pyx
/usr/local/lib/python3.6/dist-packages/Cython/Compiler/Main.py:369: FutureWarning: Cython directive 'language_level' not set, using 2 for now (Py2). This will change in a later release! File: /content/darkflow/darkflow/cython_utils/cy_yolo2_findboxes.pyx
  tree = Parsing.p_module(s, pxd, full_module_name)
[2/3] Cythonizing darkflow/cython_utils/cy_yolo_findboxes.pyx
/usr/local/lib/python3.6/dist-packages/Cython/Compiler/Main.py:369: FutureWarning: Cython directive 'language_level' not set, using 2 for now (Py2). This will change in a later release! File: /content/darkflow/darkflow/cython_utils/cy_yolo_findboxes.pyx
  tree = Parsing.p_module(s, pxd, full_module_name)
[3/3] Cythonizing darkflow/cython_utils/nms.pyx
/usr/local/lib/python3.6/dist-packages/Cython/Compiler/Main.py:369: FutureWarning: Cython directive 'language_level' not set, using 2 for now (Py2). This will change in a later release! File: /content/darkflow/darkflow/cython_utils/nms.pxd
  tree = Parsing.p_module(s, pxd, full_module_name)
running build_ext
building 'darkflow.cython_utils.nms' extension
creating build
creating build/temp.linux-x86_64-3.6
creating build/temp.linux-x86_64-3.6/darkflow
creating build/temp.linux-x86_64-3.6/darkflow/cython_utils
x86_64-linux-gnu-gcc -pthread -DNDEBUG -g -fwrapv -O2 -Wall -g -fstack-protector-strong -Wformat -Werror=format-security -Wdate-time -D_FORTIFY_SOURCE=2 -fPIC -I/usr/local/lib/python3.6/dist-packages/numpy/core/include -I/usr/include/python3.6m -c darkflow/cython_utils/nms.c -o build/temp.linux-x86_64-3.6/darkflow/cython_utils/nms.o
In file included from /usr/local/lib/python3.6/dist-packages/numpy/core/include/numpy/ndarraytypes.h:1822:0,
                 from /usr/local/lib/python3.6/dist-packages/numpy/core/include/numpy/ndarrayobject.h:12,
                 from /usr/local/lib/python3.6/dist-packages/numpy/core/include/numpy/arrayobject.h:4,
                 from darkflow/cython_utils/nms.c:620:
/usr/local/lib/python3.6/dist-packages/numpy/core/include/numpy/npy_1_7_deprecated_api.h:17:2: warning: #warning "Using deprecated NumPy API, disable it with " "#define NPY_NO_DEPRECATED_API NPY_1_7_API_VERSION" [-Wcpp]
 #warning "Using deprecated NumPy API, disable it with " \
  ^~~~~~~
creating build/lib.linux-x86_64-3.6
creating build/lib.linux-x86_64-3.6/darkflow
creating build/lib.linux-x86_64-3.6/darkflow/cython_utils
x86_64-linux-gnu-gcc -pthread -shared -Wl,-O1 -Wl,-Bsymbolic-functions -Wl,-Bsymbolic-functions -Wl,-z,relro -Wl,-Bsymbolic-functions -Wl,-z,relro -g -fstack-protector-strong -Wformat -Werror=format-security -Wdate-time -D_FORTIFY_SOURCE=2 build/temp.linux-x86_64-3.6/darkflow/cython_utils/nms.o -lm -o build/lib.linux-x86_64-3.6/darkflow/cython_utils/nms.cpython-36m-x86_64-linux-gnu.so
building 'darkflow.cython_utils.cy_yolo2_findboxes' extension
x86_64-linux-gnu-gcc -pthread -DNDEBUG -g -fwrapv -O2 -Wall -g -fstack-protector-strong -Wformat -Werror=format-security -Wdate-time -D_FORTIFY_SOURCE=2 -fPIC -I/usr/local/lib/python3.6/dist-packages/numpy/core/include -I/usr/include/python3.6m -c darkflow/cython_utils/cy_yolo2_findboxes.c -o build/temp.linux-x86_64-3.6/darkflow/cython_utils/cy_yolo2_findboxes.o
In file included from /usr/local/lib/python3.6/dist-packages/numpy/core/include/numpy/ndarraytypes.h:1822:0,
                 from /usr/local/lib/python3.6/dist-packages/numpy/core/include/numpy/ndarrayobject.h:12,
                 from /usr/local/lib/python3.6/dist-packages/numpy/core/include/numpy/arrayobject.h:4,
                 from darkflow/cython_utils/cy_yolo2_findboxes.c:620:
/usr/local/lib/python3.6/dist-packages/numpy/core/include/numpy/npy_1_7_deprecated_api.h:17:2: warning: #warning "Using deprecated NumPy API, disable it with " "#define NPY_NO_DEPRECATED_API NPY_1_7_API_VERSION" [-Wcpp]
 #warning "Using deprecated NumPy API, disable it with " \
  ^~~~~~~
x86_64-linux-gnu-gcc -pthread -shared -Wl,-O1 -Wl,-Bsymbolic-functions -Wl,-Bsymbolic-functions -Wl,-z,relro -Wl,-Bsymbolic-functions -Wl,-z,relro -g -fstack-protector-strong -Wformat -Werror=format-security -Wdate-time -D_FORTIFY_SOURCE=2 build/temp.linux-x86_64-3.6/darkflow/cython_utils/cy_yolo2_findboxes.o -lm -o build/lib.linux-x86_64-3.6/darkflow/cython_utils/cy_yolo2_findboxes.cpython-36m-x86_64-linux-gnu.so
building 'darkflow.cython_utils.cy_yolo_findboxes' extension
x86_64-linux-gnu-gcc -pthread -DNDEBUG -g -fwrapv -O2 -Wall -g -fstack-protector-strong -Wformat -Werror=format-security -Wdate-time -D_FORTIFY_SOURCE=2 -fPIC -I/usr/local/lib/python3.6/dist-packages/numpy/core/include -I/usr/include/python3.6m -c darkflow/cython_utils/cy_yolo_findboxes.c -o build/temp.linux-x86_64-3.6/darkflow/cython_utils/cy_yolo_findboxes.o
In file included from /usr/local/lib/python3.6/dist-packages/numpy/core/include/numpy/ndarraytypes.h:1822:0,
                 from /usr/local/lib/python3.6/dist-packages/numpy/core/include/numpy/ndarrayobject.h:12,
                 from /usr/local/lib/python3.6/dist-packages/numpy/core/include/numpy/arrayobject.h:4,
                 from darkflow/cython_utils/cy_yolo_findboxes.c:620:
/usr/local/lib/python3.6/dist-packages/numpy/core/include/numpy/npy_1_7_deprecated_api.h:17:2: warning: #warning "Using deprecated NumPy API, disable it with " "#define NPY_NO_DEPRECATED_API NPY_1_7_API_VERSION" [-Wcpp]
 #warning "Using deprecated NumPy API, disable it with " \
  ^~~~~~~
x86_64-linux-gnu-gcc -pthread -shared -Wl,-O1 -Wl,-Bsymbolic-functions -Wl,-Bsymbolic-functions -Wl,-z,relro -Wl,-Bsymbolic-functions -Wl,-z,relro -g -fstack-protector-strong -Wformat -Werror=format-security -Wdate-time -D_FORTIFY_SOURCE=2 build/temp.linux-x86_64-3.6/darkflow/cython_utils/cy_yolo_findboxes.o -lm -o build/lib.linux-x86_64-3.6/darkflow/cython_utils/cy_yolo_findboxes.cpython-36m-x86_64-linux-gnu.so
copying build/lib.linux-x86_64-3.6/darkflow/cython_utils/nms.cpython-36m-x86_64-linux-gnu.so -> darkflow/cython_utils
copying build/lib.linux-x86_64-3.6/darkflow/cython_utils/cy_yolo2_findboxes.cpython-36m-x86_64-linux-gnu.so -> darkflow/cython_utils
copying build/lib.linux-x86_64-3.6/darkflow/cython_utils/cy_yolo_findboxes.cpython-36m-x86_64-linux-gnu.so -> darkflow/cython_utils
In [5]:
! pip install -e .
Obtaining file:///content/darkflow
Installing collected packages: darkflow
  Running setup.py develop for darkflow
Successfully installed darkflow
In [6]:
! pip install .
Processing /content/darkflow
Building wheels for collected packages: darkflow
  Building wheel for darkflow (setup.py) ... done
  Created wheel for darkflow: filename=darkflow-1.0.0-cp36-cp36m-linux_x86_64.whl size=831108 sha256=f1dba94b00d20cd4b7ed9ebb70a466f19da005c7610b4472904731753ff1c897
  Stored in directory: /tmp/pip-ephem-wheel-cache-067_ccd6/wheels/2f/3a/c5/e84e79d73d5a73aa1b5129a66a40947d9d77a32ebed501e431
Successfully built darkflow
Installing collected packages: darkflow
  Found existing installation: darkflow 1.0.0
    Can't uninstall 'darkflow'. No files were found to uninstall.
Successfully installed darkflow-1.0.0
In [7]:
%matplotlib inline
import matplotlib.pyplot as plt
import numpy as np

from darkflow.net.build import TFNet
import cv2
WARNING: Logging before flag parsing goes to stderr.
W0905 15:14:22.862311 140674634393472 deprecation_wrapper.py:119] From /content/darkflow/darkflow/net/build.py:15: The name tf.train.RMSPropOptimizer is deprecated. Please use tf.compat.v1.train.RMSPropOptimizer instead.

W0905 15:14:22.863903 140674634393472 deprecation_wrapper.py:119] From /content/darkflow/darkflow/net/build.py:16: The name tf.train.AdadeltaOptimizer is deprecated. Please use tf.compat.v1.train.AdadeltaOptimizer instead.

W0905 15:14:22.864878 140674634393472 deprecation_wrapper.py:119] From /content/darkflow/darkflow/net/build.py:17: The name tf.train.AdagradOptimizer is deprecated. Please use tf.compat.v1.train.AdagradOptimizer instead.

W0905 15:14:22.865718 140674634393472 deprecation_wrapper.py:119] From /content/darkflow/darkflow/net/build.py:18: The name tf.train.AdagradDAOptimizer is deprecated. Please use tf.compat.v1.train.AdagradDAOptimizer instead.

W0905 15:14:22.867173 140674634393472 deprecation_wrapper.py:119] From /content/darkflow/darkflow/net/build.py:19: The name tf.train.MomentumOptimizer is deprecated. Please use tf.compat.v1.train.MomentumOptimizer instead.

Import your drive into Google colab:
In [8]:
## Start by connecting gdrive into the google colab
from google.colab import drive
drive.mount('/content/gdrive')
Go to this URL in a browser: https://accounts.google.com/o/oauth2/auth?client_id=947318989803-6bn6qk8qdgf4n4g3pfee6491hc0brc4i.apps.googleusercontent.com&redirect_uri=urn%3Aietf%3Awg%3Aoauth%3A2.0%3Aoob&scope=email%20https%3A%2F%2Fwww.googleapis.com%2Fauth%2Fdocs.test%20https%3A%2F%2Fwww.googleapis.com%2Fauth%2Fdrive%20https%3A%2F%2Fwww.googleapis.com%2Fauth%2Fdrive.photos.readonly%20https%3A%2F%2Fwww.googleapis.com%2Fauth%2Fpeopleapi.readonly&response_type=code

Enter your authorization code:
··········
Mounted at /content/gdrive
In [9]:
ls
build/  darkflow/           flow*       preview.png  setup.py
cfg/    darkflow.egg-info/  labels.txt  README.md    test/
ckpt/   demo.gif            LICENSE     sample_img/  YOLO.ipynb
In [0]:

In [0]:
options = {"model": "./cfg/yolov2-voc-1c.cfg", 
           "load": "/content/gdrive/My Drive/YOLOV2/yolov2-voc.weights",
           "batch": 4,
           "epoch": 50,
           "gpu": 1.0,
           "train": True,
           "annotation": "/content/gdrive/My Drive/YOLO/annotations1/",
           "dataset": "/content/gdrive/My Drive/YOLO/images/"}
In [38]:
tfnet = TFNet(options)
Parsing ./cfg/yolov2-voc.cfg
Parsing ./cfg/yolov2-voc-1c.cfg
Loading /content/gdrive/My Drive/YOLOV2/yolov2-voc.weights ...
Successfully identified 202704264 bytes
Finished in 0.03517484664916992s

Building net ...
Source | Train? | Layer description                | Output size
-------+--------+----------------------------------+---------------
       |        | input                            | (?, 416, 416, 3)
 Load  |  Yep!  | conv 3x3p1_1  +bnorm  leaky      | (?, 416, 416, 32)
 Load  |  Yep!  | maxp 2x2p0_2                     | (?, 208, 208, 32)
 Load  |  Yep!  | conv 3x3p1_1  +bnorm  leaky      | (?, 208, 208, 64)
 Load  |  Yep!  | maxp 2x2p0_2                     | (?, 104, 104, 64)
 Load  |  Yep!  | conv 3x3p1_1  +bnorm  leaky      | (?, 104, 104, 128)
 Load  |  Yep!  | conv 1x1p0_1  +bnorm  leaky      | (?, 104, 104, 64)
 Load  |  Yep!  | conv 3x3p1_1  +bnorm  leaky      | (?, 104, 104, 128)
 Load  |  Yep!  | maxp 2x2p0_2                     | (?, 52, 52, 128)
 Load  |  Yep!  | conv 3x3p1_1  +bnorm  leaky      | (?, 52, 52, 256)
 Load  |  Yep!  | conv 1x1p0_1  +bnorm  leaky      | (?, 52, 52, 128)
 Load  |  Yep!  | conv 3x3p1_1  +bnorm  leaky      | (?, 52, 52, 256)
 Load  |  Yep!  | maxp 2x2p0_2                     | (?, 26, 26, 256)
 Load  |  Yep!  | conv 3x3p1_1  +bnorm  leaky      | (?, 26, 26, 512)
 Load  |  Yep!  | conv 1x1p0_1  +bnorm  leaky      | (?, 26, 26, 256)
 Load  |  Yep!  | conv 3x3p1_1  +bnorm  leaky      | (?, 26, 26, 512)
 Load  |  Yep!  | conv 1x1p0_1  +bnorm  leaky      | (?, 26, 26, 256)
 Load  |  Yep!  | conv 3x3p1_1  +bnorm  leaky      | (?, 26, 26, 512)
 Load  |  Yep!  | maxp 2x2p0_2                     | (?, 13, 13, 512)
 Load  |  Yep!  | conv 3x3p1_1  +bnorm  leaky      | (?, 13, 13, 1024)
 Load  |  Yep!  | conv 1x1p0_1  +bnorm  leaky      | (?, 13, 13, 512)
 Load  |  Yep!  | conv 3x3p1_1  +bnorm  leaky      | (?, 13, 13, 1024)
 Load  |  Yep!  | conv 1x1p0_1  +bnorm  leaky      | (?, 13, 13, 512)
 Load  |  Yep!  | conv 3x3p1_1  +bnorm  leaky      | (?, 13, 13, 1024)
 Load  |  Yep!  | conv 3x3p1_1  +bnorm  leaky      | (?, 13, 13, 1024)
 Load  |  Yep!  | conv 3x3p1_1  +bnorm  leaky      | (?, 13, 13, 1024)
 Load  |  Yep!  | concat [16]                      | (?, 26, 26, 512)
 Load  |  Yep!  | conv 1x1p0_1  +bnorm  leaky      | (?, 26, 26, 64)
 Load  |  Yep!  | local flatten 2x2                | (?, 13, 13, 256)
 Load  |  Yep!  | concat [27, 24]                  | (?, 13, 13, 1280)
 Load  |  Yep!  | conv 3x3p1_1  +bnorm  leaky      | (?, 13, 13, 1024)
 Init  |  Yep!  | conv 1x1p0_1    linear           | (?, 13, 13, 30)
-------+--------+----------------------------------+---------------
GPU mode with 1.0 usage
./cfg/yolov2-voc-1c.cfg loss hyper-parameters:
	H       = 13
	W       = 13
	box     = 5
	classes = 1
	scales  = [1.0, 5.0, 1.0, 1.0]
Building ./cfg/yolov2-voc-1c.cfg loss
Building ./cfg/yolov2-voc-1c.cfg train op
Finished in 11.149552583694458s

In [39]:
tfnet.train()
./cfg/yolov2-voc-1c.cfg parsing /content/gdrive/My Drive/YOLO/annotations1/
Parsing for ['HINDI'] 
---------------------------------------------------------------------------
error                                     Traceback (most recent call last)
<ipython-input-39-b9fb94a28d0a> in <module>()
----> 1 tfnet.train()

/content/darkflow/darkflow/net/flow.py in train(self)
     37     loss_op = self.framework.loss
     38 
---> 39     for i, (x_batch, datum) in enumerate(batches):
     40         if not i: self.say(train_stats.format(
     41             self.FLAGS.lr, self.FLAGS.batch,

/content/darkflow/darkflow/net/yolo/data.py in shuffle(self)
     95 def shuffle(self):
     96     batch = self.FLAGS.batch
---> 97     data = self.parse()
     98     size = len(data)
     99 

/content/darkflow/darkflow/net/yolo/data.py in parse(self, exclusive)
     16         exit('Error: {}'.format(msg.format(ann)))
     17     print('\n{} parsing {}'.format(meta['model'], ann))
---> 18     dumps = pascal_voc_clean_xml(ann, meta['labels'], exclusive)
     19     return dumps
     20 

/content/darkflow/darkflow/utils/pascal_voc_clean_xml.py in pascal_voc_clean_xml(ANN, pick, exclusive)
     20     os.chdir(ANN)
     21     annotations = os.listdir('.')
---> 22     annotations = glob.glob(str(annotations)+'*.xml')
     23     size = len(annotations)
     24 

/usr/lib/python3.6/glob.py in glob(pathname, recursive)
     18     zero or more directories and subdirectories.
     19     """
---> 20     return list(iglob(pathname, recursive=recursive))
     21 
     22 def iglob(pathname, *, recursive=False):

/usr/lib/python3.6/glob.py in _iglob(pathname, recursive, dironly)
     53             yield from _glob2(dirname, basename, dironly)
     54         else:
---> 55             yield from _glob1(dirname, basename, dironly)
     56         return
     57     # `os.path.split()` returns the argument itself as a dirname if it is a

/usr/lib/python3.6/glob.py in _glob1(dirname, pattern, dironly)
     81     if not _ishidden(pattern):
     82         names = (x for x in names if not _ishidden(x))
---> 83     return fnmatch.filter(names, pattern)
     84 
     85 def _glob0(dirname, basename, dironly):

/usr/lib/python3.6/fnmatch.py in filter(names, pat)
     50     result = []
     51     pat = os.path.normcase(pat)
---> 52     match = _compile_pattern(pat)
     53     if os.path is posixpath:
     54         # normcase on posix is NOP. Optimize it away from the loop.

/usr/lib/python3.6/fnmatch.py in _compile_pattern(pat)
     44     else:
     45         res = translate(pat)
---> 46     return re.compile(res).match
     47 
     48 def filter(names, pat):

/usr/lib/python3.6/re.py in compile(pattern, flags)
    231 def compile(pattern, flags=0):
    232     "Compile a regular expression pattern, returning a pattern object."
--> 233     return _compile(pattern, flags)
    234 
    235 def purge():

/usr/lib/python3.6/re.py in _compile(pattern, flags)
    299     if not sre_compile.isstring(pattern):
    300         raise TypeError("first argument must be string or compiled pattern")
--> 301     p = sre_compile.compile(pattern, flags)
    302     if not (flags & DEBUG):
    303         if len(_cache) >= _MAXCACHE:

/usr/lib/python3.6/sre_compile.py in compile(p, flags)
    560     if isstring(p):
    561         pattern = p
--> 562         p = sre_parse.parse(p, flags)
    563     else:
    564         pattern = None

/usr/lib/python3.6/sre_parse.py in parse(str, flags, pattern)
    853 
    854     try:
--> 855         p = _parse_sub(source, pattern, flags & SRE_FLAG_VERBOSE, 0)
    856     except Verbose:
    857         # the VERBOSE flag was switched on inside the pattern.  to be

/usr/lib/python3.6/sre_parse.py in _parse_sub(source, state, verbose, nested)
    414     while True:
    415         itemsappend(_parse(source, state, verbose, nested + 1,
--> 416                            not nested and not items))
    417         if not sourcematch("|"):
    418             break

/usr/lib/python3.6/sre_parse.py in _parse(source, state, verbose, nested, first)
    763                 sub_verbose = ((verbose or (add_flags & SRE_FLAG_VERBOSE)) and
    764                                not (del_flags & SRE_FLAG_VERBOSE))
--> 765                 p = _parse_sub(source, state, sub_verbose, nested + 1)
    766             if not source.match(")"):
    767                 raise source.error("missing ), unterminated subpattern",

/usr/lib/python3.6/sre_parse.py in _parse_sub(source, state, verbose, nested)
    414     while True:
    415         itemsappend(_parse(source, state, verbose, nested + 1,
--> 416                            not nested and not items))
    417         if not sourcematch("|"):
    418             break

/usr/lib/python3.6/sre_parse.py in _parse(source, state, verbose, nested, first)
    551                     if hi < lo:
    552                         msg = "bad character range %s-%s" % (this, that)
--> 553                         raise source.error(msg, len(this) + 1 + len(that))
    554                     setappend((RANGE, (lo, hi)))
    555                 else:

error: bad character range s-e at position 21
In [0]:
tfnet.savepb()
In [0]:
options = {"model": "cfg/yolov2-voc-1c.cfg",
           "load": 1000,
           "gpu": 1.0,
          "threshold":0.001}
In [15]:
tfnet2 = TFNet(options)
Parsing cfg/yolov2-voc-1c.cfg
Loading None ...
Finished in 0.00012636184692382812s

Building net ...
Source | Train? | Layer description                | Output size
-------+--------+----------------------------------+---------------
       |        | input                            | (?, 416, 416, 3)
 Init  |  Yep!  | conv 3x3p1_1  +bnorm  leaky      | (?, 416, 416, 32)
 Load  |  Yep!  | maxp 2x2p0_2                     | (?, 208, 208, 32)
 Init  |  Yep!  | conv 3x3p1_1  +bnorm  leaky      | (?, 208, 208, 64)
 Load  |  Yep!  | maxp 2x2p0_2                     | (?, 104, 104, 64)
 Init  |  Yep!  | conv 3x3p1_1  +bnorm  leaky      | (?, 104, 104, 128)
 Init  |  Yep!  | conv 1x1p0_1  +bnorm  leaky      | (?, 104, 104, 64)
 Init  |  Yep!  | conv 3x3p1_1  +bnorm  leaky      | (?, 104, 104, 128)
 Load  |  Yep!  | maxp 2x2p0_2                     | (?, 52, 52, 128)
 Init  |  Yep!  | conv 3x3p1_1  +bnorm  leaky      | (?, 52, 52, 256)
 Init  |  Yep!  | conv 1x1p0_1  +bnorm  leaky      | (?, 52, 52, 128)
 Init  |  Yep!  | conv 3x3p1_1  +bnorm  leaky      | (?, 52, 52, 256)
 Load  |  Yep!  | maxp 2x2p0_2                     | (?, 26, 26, 256)
 Init  |  Yep!  | conv 3x3p1_1  +bnorm  leaky      | (?, 26, 26, 512)
 Init  |  Yep!  | conv 1x1p0_1  +bnorm  leaky      | (?, 26, 26, 256)
 Init  |  Yep!  | conv 3x3p1_1  +bnorm  leaky      | (?, 26, 26, 512)
 Init  |  Yep!  | conv 1x1p0_1  +bnorm  leaky      | (?, 26, 26, 256)
 Init  |  Yep!  | conv 3x3p1_1  +bnorm  leaky      | (?, 26, 26, 512)
 Load  |  Yep!  | maxp 2x2p0_2                     | (?, 13, 13, 512)
 Init  |  Yep!  | conv 3x3p1_1  +bnorm  leaky      | (?, 13, 13, 1024)
 Init  |  Yep!  | conv 1x1p0_1  +bnorm  leaky      | (?, 13, 13, 512)
 Init  |  Yep!  | conv 3x3p1_1  +bnorm  leaky      | (?, 13, 13, 1024)
 Init  |  Yep!  | conv 1x1p0_1  +bnorm  leaky      | (?, 13, 13, 512)
 Init  |  Yep!  | conv 3x3p1_1  +bnorm  leaky      | (?, 13, 13, 1024)
 Init  |  Yep!  | conv 3x3p1_1  +bnorm  leaky      | (?, 13, 13, 1024)
 Init  |  Yep!  | conv 3x3p1_1  +bnorm  leaky      | (?, 13, 13, 1024)
 Load  |  Yep!  | concat [16]                      | (?, 26, 26, 512)
 Init  |  Yep!  | conv 1x1p0_1  +bnorm  leaky      | (?, 26, 26, 64)
 Load  |  Yep!  | local flatten 2x2                | (?, 13, 13, 256)
 Load  |  Yep!  | concat [27, 24]                  | (?, 13, 13, 1280)
 Init  |  Yep!  | conv 3x3p1_1  +bnorm  leaky      | (?, 13, 13, 1024)
 Init  |  Yep!  | conv 1x1p0_1    linear           | (?, 13, 13, 30)
-------+--------+----------------------------------+---------------
GPU mode with 1.0 usage
W0905 15:24:35.511464 140674634393472 deprecation.py:323] From /usr/local/lib/python3.6/dist-packages/tensorflow/python/training/saver.py:1276: checkpoint_exists (from tensorflow.python.training.checkpoint_management) is deprecated and will be removed in a future version.
Instructions for updating:
Use standard file APIs to check for files with this prefix.
Loading from ./ckpt/yolov2-voc-1c-1000
Finished in 6.485211372375488s

In [16]:
tfnet2.load_from_ckpt()
Loading from ./ckpt/yolov2-voc-1c-1000
In [17]:
#1example
import pprint as pp

original_img = cv2.imread("/content/gdrive/My Drive/YOLOV2/158.jpg")
original_img = cv2.cvtColor(original_img, cv2.COLOR_BGR2RGB)
results = tfnet2.return_predict(original_img)
print(results)
[{'label': 'HINDI', 'confidence': 0.015508904, 'topleft': {'x': 0, 'y': 0}, 'bottomright': {'x': 81, 'y': 45}}, {'label': 'HINDI', 'confidence': 0.01667327, 'topleft': {'x': 0, 'y': 0}, 'bottomright': {'x': 128, 'y': 65}}, {'label': 'HINDI', 'confidence': 0.014073237, 'topleft': {'x': 21, 'y': 0}, 'bottomright': {'x': 139, 'y': 46}}, {'label': 'HINDI', 'confidence': 0.02386414, 'topleft': {'x': 82, 'y': 0}, 'bottomright': {'x': 190, 'y': 47}}, {'label': 'HINDI', 'confidence': 0.024770413, 'topleft': {'x': 138, 'y': 0}, 'bottomright': {'x': 248, 'y': 48}}, {'label': 'HINDI', 'confidence': 0.028882433, 'topleft': {'x': 189, 'y': 0}, 'bottomright': {'x': 303, 'y': 47}}, {'label': 'HINDI', 'confidence': 0.025328297, 'topleft': {'x': 246, 'y': 0}, 'bottomright': {'x': 356, 'y': 47}}, {'label': 'HINDI', 'confidence': 0.019713663, 'topleft': {'x': 300, 'y': 0}, 'bottomright': {'x': 411, 'y': 49}}, {'label': 'HINDI', 'confidence': 0.019784225, 'topleft': {'x': 353, 'y': 0}, 'bottomright': {'x': 468, 'y': 48}}, {'label': 'HINDI', 'confidence': 0.017726334, 'topleft': {'x': 411, 'y': 0}, 'bottomright': {'x': 520, 'y': 49}}, {'label': 'HINDI', 'confidence': 0.013296597, 'topleft': {'x': 368, 'y': 0}, 'bottomright': {'x': 569, 'y': 71}}, {'label': 'HINDI', 'confidence': 0.013209222, 'topleft': {'x': 462, 'y': 0}, 'bottomright': {'x': 579, 'y': 52}}, {'label': 'HINDI', 'confidence': 0.011066486, 'topleft': {'x': 519, 'y': 0}, 'bottomright': {'x': 629, 'y': 52}}, {'label': 'HINDI', 'confidence': 0.014987566, 'topleft': {'x': 582, 'y': 0}, 'bottomright': {'x': 672, 'y': 54}}, {'label': 'HINDI', 'confidence': 0.015652433, 'topleft': {'x': 528, 'y': 0}, 'bottomright': {'x': 714, 'y': 65}}, {'label': 'HINDI', 'confidence': 0.013567343, 'topleft': {'x': 465, 'y': 0}, 'bottomright': {'x': 714, 'y': 79}}, {'label': 'HINDI', 'confidence': 0.014551229, 'topleft': {'x': 412, 'y': 0}, 'bottomright': {'x': 714, 'y': 153}}, {'label': 'HINDI', 'confidence': 0.016390821, 'topleft': {'x': 30, 'y': 6}, 'bottomright': {'x': 124, 'y': 101}}, {'label': 'HINDI', 'confidence': 0.028359612, 'topleft': {'x': 84, 'y': 7}, 'bottomright': {'x': 182, 'y': 97}}, {'label': 'HINDI', 'confidence': 0.05881495, 'topleft': {'x': 154, 'y': 12}, 'bottomright': {'x': 227, 'y': 95}}, {'label': 'HINDI', 'confidence': 0.047770184, 'topleft': {'x': 92, 'y': 6}, 'bottomright': {'x': 294, 'y': 105}}, {'label': 'HINDI', 'confidence': 0.06428799, 'topleft': {'x': 0, 'y': 0}, 'bottomright': {'x': 460, 'y': 131}}, {'label': 'HINDI', 'confidence': 0.03918128, 'topleft': {'x': 199, 'y': 15}, 'bottomright': {'x': 288, 'y': 91}}, {'label': 'HINDI', 'confidence': 0.0557203, 'topleft': {'x': 319, 'y': 17}, 'bottomright': {'x': 393, 'y': 93}}, {'label': 'HINDI', 'confidence': 0.06475876, 'topleft': {'x': 265, 'y': 13}, 'bottomright': {'x': 449, 'y': 93}}, {'label': 'HINDI', 'confidence': 0.043700535, 'topleft': {'x': 55, 'y': 0}, 'bottomright': {'x': 653, 'y': 251}}, {'label': 'HINDI', 'confidence': 0.049211938, 'topleft': {'x': 179, 'y': 0}, 'bottomright': {'x': 651, 'y': 133}}, {'label': 'HINDI', 'confidence': 0.028262693, 'topleft': {'x': 376, 'y': 19}, 'bottomright': {'x': 560, 'y': 86}}, {'label': 'HINDI', 'confidence': 0.034253772, 'topleft': {'x': 479, 'y': 10}, 'bottomright': {'x': 560, 'y': 97}}, {'label': 'HINDI', 'confidence': 0.010501764, 'topleft': {'x': 526, 'y': 11}, 'bottomright': {'x': 620, 'y': 95}}, {'label': 'HINDI', 'confidence': 0.009151643, 'topleft': {'x': 582, 'y': 6}, 'bottomright': {'x': 669, 'y': 101}}, {'label': 'HINDI', 'confidence': 0.009671632, 'topleft': {'x': 631, 'y': 0}, 'bottomright': {'x': 714, 'y': 103}}, {'label': 'HINDI', 'confidence': 0.008184282, 'topleft': {'x': 0, 'y': 51}, 'bottomright': {'x': 67, 'y': 132}}, {'label': 'HINDI', 'confidence': 0.014486863, 'topleft': {'x': 37, 'y': 52}, 'bottomright': {'x': 115, 'y': 130}}, {'label': 'HINDI', 'confidence': 0.00913395, 'topleft': {'x': 0, 'y': 44}, 'bottomright': {'x': 199, 'y': 148}}, {'label': 'HINDI', 'confidence': 0.009184976, 'topleft': {'x': 0, 'y': 36}, 'bottomright': {'x': 345, 'y': 160}}, {'label': 'HINDI', 'confidence': 0.009973899, 'topleft': {'x': 0, 'y': 0}, 'bottomright': {'x': 393, 'y': 252}}, {'label': 'HINDI', 'confidence': 0.010123629, 'topleft': {'x': 92, 'y': 51}, 'bottomright': {'x': 171, 'y': 133}}, {'label': 'HINDI', 'confidence': 0.013554293, 'topleft': {'x': 154, 'y': 50}, 'bottomright': {'x': 220, 'y': 134}}, {'label': 'HINDI', 'confidence': 0.015590869, 'topleft': {'x': 209, 'y': 52}, 'bottomright': {'x': 275, 'y': 133}}, {'label': 'HINDI', 'confidence': 0.017824857, 'topleft': {'x': 265, 'y': 54}, 'bottomright': {'x': 331, 'y': 132}}, {'label': 'HINDI', 'confidence': 0.019241694, 'topleft': {'x': 318, 'y': 55}, 'bottomright': {'x': 388, 'y': 130}}, {'label': 'HINDI', 'confidence': 0.0131534375, 'topleft': {'x': 259, 'y': 35}, 'bottomright': {'x': 456, 'y': 156}}, {'label': 'HINDI', 'confidence': 0.015646726, 'topleft': {'x': 373, 'y': 56}, 'bottomright': {'x': 442, 'y': 131}}, {'label': 'HINDI', 'confidence': 0.010234952, 'topleft': {'x': 425, 'y': 53}, 'bottomright': {'x': 498, 'y': 133}}, {'label': 'HINDI', 'confidence': 0.006848482, 'topleft': {'x': 361, 'y': 40}, 'bottomright': {'x': 572, 'y': 150}}, {'label': 'HINDI', 'confidence': 0.008519987, 'topleft': {'x': 479, 'y': 53}, 'bottomright': {'x': 553, 'y': 132}}, {'label': 'HINDI', 'confidence': 0.0066605434, 'topleft': {'x': 531, 'y': 51}, 'bottomright': {'x': 613, 'y': 134}}, {'label': 'HINDI', 'confidence': 0.0071230675, 'topleft': {'x': 586, 'y': 47}, 'bottomright': {'x': 669, 'y': 139}}, {'label': 'HINDI', 'confidence': 0.008602943, 'topleft': {'x': 639, 'y': 42}, 'bottomright': {'x': 714, 'y': 141}}, {'label': 'HINDI', 'confidence': 0.004991024, 'topleft': {'x': 0, 'y': 93}, 'bottomright': {'x': 75, 'y': 171}}, {'label': 'HINDI', 'confidence': 0.004951424, 'topleft': {'x': 30, 'y': 88}, 'bottomright': {'x': 124, 'y': 178}}, {'label': 'HINDI', 'confidence': 0.0046107997, 'topleft': {'x': 79, 'y': 85}, 'bottomright': {'x': 187, 'y': 184}}, {'label': 'HINDI', 'confidence': 0.0054942984, 'topleft': {'x': 138, 'y': 83}, 'bottomright': {'x': 241, 'y': 186}}, {'label': 'HINDI', 'confidence': 0.0068358416, 'topleft': {'x': 194, 'y': 84}, 'bottomright': {'x': 294, 'y': 184}}, {'label': 'HINDI', 'confidence': 0.0072499136, 'topleft': {'x': 252, 'y': 84}, 'bottomright': {'x': 349, 'y': 184}}, {'label': 'HINDI', 'confidence': 0.006700657, 'topleft': {'x': 305, 'y': 85}, 'bottomright': {'x': 405, 'y': 183}}, {'label': 'HINDI', 'confidence': 0.0073121036, 'topleft': {'x': 359, 'y': 87}, 'bottomright': {'x': 460, 'y': 182}}, {'label': 'HINDI', 'confidence': 0.00617141, 'topleft': {'x': 278, 'y': 87}, 'bottomright': {'x': 544, 'y': 183}}, {'label': 'HINDI', 'confidence': 0.007582568, 'topleft': {'x': 417, 'y': 85}, 'bottomright': {'x': 513, 'y': 184}}, {'label': 'HINDI', 'confidence': 0.006707665, 'topleft': {'x': 472, 'y': 87}, 'bottomright': {'x': 568, 'y': 181}}, {'label': 'HINDI', 'confidence': 0.0057529076, 'topleft': {'x': 524, 'y': 86}, 'bottomright': {'x': 625, 'y': 182}}, {'label': 'HINDI', 'confidence': 0.0033514425, 'topleft': {'x': 580, 'y': 91}, 'bottomright': {'x': 678, 'y': 180}}, {'label': 'HINDI', 'confidence': 0.005836053, 'topleft': {'x': 641, 'y': 87}, 'bottomright': {'x': 714, 'y': 177}}, {'label': 'HINDI', 'confidence': 0.0051459153, 'topleft': {'x': 0, 'y': 134}, 'bottomright': {'x': 76, 'y': 209}}, {'label': 'HINDI', 'confidence': 0.0041828654, 'topleft': {'x': 28, 'y': 130}, 'bottomright': {'x': 127, 'y': 218}}, {'label': 'HINDI', 'confidence': 0.0060530743, 'topleft': {'x': 222, 'y': 126}, 'bottomright': {'x': 481, 'y': 218}}, {'label': 'HINDI', 'confidence': 0.00616087, 'topleft': {'x': 414, 'y': 129}, 'bottomright': {'x': 519, 'y': 220}}, {'label': 'HINDI', 'confidence': 0.005041691, 'topleft': {'x': 470, 'y': 130}, 'bottomright': {'x': 572, 'y': 220}}, {'label': 'HINDI', 'confidence': 0.004480972, 'topleft': {'x': 528, 'y': 130}, 'bottomright': {'x': 624, 'y': 219}}, {'label': 'HINDI', 'confidence': 0.0027162768, 'topleft': {'x': 582, 'y': 138}, 'bottomright': {'x': 679, 'y': 214}}, {'label': 'HINDI', 'confidence': 0.004728544, 'topleft': {'x': 645, 'y': 132}, 'bottomright': {'x': 714, 'y': 214}}, {'label': 'HINDI', 'confidence': 0.005697284, 'topleft': {'x': 567, 'y': 113}, 'bottomright': {'x': 714, 'y': 233}}, {'label': 'HINDI', 'confidence': 0.006846277, 'topleft': {'x': 0, 'y': 174}, 'bottomright': {'x': 74, 'y': 245}}, {'label': 'HINDI', 'confidence': 0.007887326, 'topleft': {'x': 0, 'y': 28}, 'bottomright': {'x': 155, 'y': 388}}, {'label': 'HINDI', 'confidence': 0.0073338198, 'topleft': {'x': 0, 'y': 138}, 'bottomright': {'x': 283, 'y': 280}}, {'label': 'HINDI', 'confidence': 0.006484318, 'topleft': {'x': 33, 'y': 175}, 'bottomright': {'x': 124, 'y': 249}}, {'label': 'HINDI', 'confidence': 0.007309498, 'topleft': {'x': 83, 'y': 172}, 'bottomright': {'x': 187, 'y': 254}}, {'label': 'HINDI', 'confidence': 0.00874183, 'topleft': {'x': 141, 'y': 171}, 'bottomright': {'x': 243, 'y': 254}}, {'label': 'HINDI', 'confidence': 0.009538816, 'topleft': {'x': 193, 'y': 173}, 'bottomright': {'x': 300, 'y': 252}}, {'label': 'HINDI', 'confidence': 0.008484417, 'topleft': {'x': 128, 'y': 161}, 'bottomright': {'x': 358, 'y': 260}}, {'label': 'HINDI', 'confidence': 0.009350089, 'topleft': {'x': 227, 'y': 169}, 'bottomright': {'x': 479, 'y': 255}}, {'label': 'HINDI', 'confidence': 0.010070972, 'topleft': {'x': 417, 'y': 172}, 'bottomright': {'x': 517, 'y': 254}}, {'label': 'HINDI', 'confidence': 0.011835072, 'topleft': {'x': 342, 'y': 160}, 'bottomright': {'x': 584, 'y': 262}}, {'label': 'HINDI', 'confidence': 0.012199286, 'topleft': {'x': 311, 'y': 80}, 'bottomright': {'x': 627, 'y': 345}}, {'label': 'HINDI', 'confidence': 0.006594409, 'topleft': {'x': 470, 'y': 171}, 'bottomright': {'x': 575, 'y': 253}}, {'label': 'HINDI', 'confidence': 0.005076156, 'topleft': {'x': 526, 'y': 173}, 'bottomright': {'x': 627, 'y': 251}}, {'label': 'HINDI', 'confidence': 0.00793287, 'topleft': {'x': 452, 'y': 163}, 'bottomright': {'x': 693, 'y': 259}}, {'label': 'HINDI', 'confidence': 0.0026661328, 'topleft': {'x': 576, 'y': 180}, 'bottomright': {'x': 686, 'y': 248}}, {'label': 'HINDI', 'confidence': 0.0037830938, 'topleft': {'x': 641, 'y': 172}, 'bottomright': {'x': 714, 'y': 250}}, {'label': 'HINDI', 'confidence': 0.0065191756, 'topleft': {'x': 0, 'y': 215}, 'bottomright': {'x': 72, 'y': 279}}, {'label': 'HINDI', 'confidence': 0.0057349047, 'topleft': {'x': 0, 'y': 183}, 'bottomright': {'x': 124, 'y': 325}}, {'label': 'HINDI', 'confidence': 0.007346421, 'topleft': {'x': 0, 'y': 55}, 'bottomright': {'x': 339, 'y': 436}}, {'label': 'HINDI', 'confidence': 0.003318888, 'topleft': {'x': 27, 'y': 213}, 'bottomright': {'x': 127, 'y': 286}}, {'label': 'HINDI', 'confidence': 0.0037940375, 'topleft': {'x': 69, 'y': 208}, 'bottomright': {'x': 198, 'y': 294}}, {'label': 'HINDI', 'confidence': 0.004852821, 'topleft': {'x': 178, 'y': 209}, 'bottomright': {'x': 312, 'y': 293}}, {'label': 'HINDI', 'confidence': 0.0050622122, 'topleft': {'x': 218, 'y': 225}, 'bottomright': {'x': 484, 'y': 280}}, {'label': 'HINDI', 'confidence': 0.007156894, 'topleft': {'x': 403, 'y': 212}, 'bottomright': {'x': 528, 'y': 291}}, {'label': 'HINDI', 'confidence': 0.004021042, 'topleft': {'x': 456, 'y': 209}, 'bottomright': {'x': 587, 'y': 293}}, {'label': 'HINDI', 'confidence': 0.005653404, 'topleft': {'x': 403, 'y': 140}, 'bottomright': {'x': 714, 'y': 365}}, {'label': 'HINDI', 'confidence': 0.0037505145, 'topleft': {'x': 633, 'y': 215}, 'bottomright': {'x': 714, 'y': 283}}, {'label': 'HINDI', 'confidence': 0.004393237, 'topleft': {'x': 580, 'y': 198}, 'bottomright': {'x': 714, 'y': 306}}, {'label': 'HINDI', 'confidence': 0.005130089, 'topleft': {'x': 0, 'y': 258}, 'bottomright': {'x': 77, 'y': 316}}, {'label': 'HINDI', 'confidence': 0.0048227273, 'topleft': {'x': 0, 'y': 223}, 'bottomright': {'x': 332, 'y': 352}}, {'label': 'HINDI', 'confidence': 0.0019343706, 'topleft': {'x': 16, 'y': 258}, 'bottomright': {'x': 134, 'y': 322}}, {'label': 'HINDI', 'confidence': 0.0022238735, 'topleft': {'x': 111, 'y': 254}, 'bottomright': {'x': 270, 'y': 330}}, {'label': 'HINDI', 'confidence': 0.0017240766, 'topleft': {'x': 248, 'y': 251}, 'bottomright': {'x': 463, 'y': 335}}, {'label': 'HINDI', 'confidence': 0.0014841364, 'topleft': {'x': 173, 'y': 279}, 'bottomright': {'x': 526, 'y': 312}}, {'label': 'HINDI', 'confidence': 0.0023180235, 'topleft': {'x': 383, 'y': 257}, 'bottomright': {'x': 548, 'y': 329}}, {'label': 'HINDI', 'confidence': 0.002549206, 'topleft': {'x': 550, 'y': 257}, 'bottomright': {'x': 709, 'y': 326}}, {'label': 'HINDI', 'confidence': 0.0038195853, 'topleft': {'x': 628, 'y': 256}, 'bottomright': {'x': 714, 'y': 321}}, {'label': 'HINDI', 'confidence': 0.0034058236, 'topleft': {'x': 0, 'y': 282}, 'bottomright': {'x': 119, 'y': 380}}, {'label': 'HINDI', 'confidence': 0.0024567938, 'topleft': {'x': 17, 'y': 301}, 'bottomright': {'x': 240, 'y': 354}}, {'label': 'HINDI', 'confidence': 0.00351803, 'topleft': {'x': 272, 'y': 294}, 'bottomright': {'x': 440, 'y': 372}}, {'label': 'HINDI', 'confidence': 0.006668473, 'topleft': {'x': 180, 'y': 312}, 'bottomright': {'x': 516, 'y': 348}}, {'label': 'HINDI', 'confidence': 0.0066266237, 'topleft': {'x': 445, 'y': 297}, 'bottomright': {'x': 698, 'y': 359}}, {'label': 'HINDI', 'confidence': 0.006950585, 'topleft': {'x': 343, 'y': 253}, 'bottomright': {'x': 714, 'y': 397}}, {'label': 'HINDI', 'confidence': 0.0035390933, 'topleft': {'x': 580, 'y': 289}, 'bottomright': {'x': 714, 'y': 367}}, {'label': 'HINDI', 'confidence': 0.003769856, 'topleft': {'x': 0, 'y': 332}, 'bottomright': {'x': 79, 'y': 391}}, {'label': 'HINDI', 'confidence': 0.0030328915, 'topleft': {'x': 0, 'y': 331}, 'bottomright': {'x': 153, 'y': 403}}, {'label': 'HINDI', 'confidence': 0.002602075, 'topleft': {'x': 0, 'y': 304}, 'bottomright': {'x': 247, 'y': 416}}, {'label': 'HINDI', 'confidence': 0.0017476426, 'topleft': {'x': 16, 'y': 333}, 'bottomright': {'x': 128, 'y': 390}}, {'label': 'HINDI', 'confidence': 0.0010421139, 'topleft': {'x': 0, 'y': 340}, 'bottomright': {'x': 286, 'y': 386}}, {'label': 'HINDI', 'confidence': 0.016224792, 'topleft': {'x': 163, 'y': 337}, 'bottomright': {'x': 539, 'y': 394}}, {'label': 'HINDI', 'confidence': 0.13155936, 'topleft': {'x': 13, 'y': 280}, 'bottomright': {'x': 693, 'y': 437}}, {'label': 'HINDI', 'confidence': 0.0017286629, 'topleft': {'x': 336, 'y': 330}, 'bottomright': {'x': 477, 'y': 405}}, {'label': 'HINDI', 'confidence': 0.001704647, 'topleft': {'x': 398, 'y': 335}, 'bottomright': {'x': 534, 'y': 398}}, {'label': 'HINDI', 'confidence': 0.0017403134, 'topleft': {'x': 508, 'y': 326}, 'bottomright': {'x': 636, 'y': 402}}, {'label': 'HINDI', 'confidence': 0.0033977632, 'topleft': {'x': 635, 'y': 330}, 'bottomright': {'x': 714, 'y': 395}}, {'label': 'HINDI', 'confidence': 0.0029023297, 'topleft': {'x': 569, 'y': 332}, 'bottomright': {'x': 714, 'y': 400}}, {'label': 'HINDI', 'confidence': 0.0037030247, 'topleft': {'x': 0, 'y': 371}, 'bottomright': {'x': 76, 'y': 430}}, {'label': 'HINDI', 'confidence': 0.0030398576, 'topleft': {'x': 0, 'y': 362}, 'bottomright': {'x': 206, 'y': 444}}, {'label': 'HINDI', 'confidence': 0.0019869627, 'topleft': {'x': 18, 'y': 367}, 'bottomright': {'x': 132, 'y': 432}}, {'label': 'HINDI', 'confidence': 0.0015749864, 'topleft': {'x': 115, 'y': 370}, 'bottomright': {'x': 257, 'y': 429}}, {'label': 'HINDI', 'confidence': 0.0046708873, 'topleft': {'x': 161, 'y': 373}, 'bottomright': {'x': 547, 'y': 430}}, {'label': 'HINDI', 'confidence': 0.0014447757, 'topleft': {'x': 344, 'y': 368}, 'bottomright': {'x': 470, 'y': 438}}, {'label': 'HINDI', 'confidence': 0.0020525712, 'topleft': {'x': 447, 'y': 371}, 'bottomright': {'x': 587, 'y': 433}}, {'label': 'HINDI', 'confidence': 0.002752454, 'topleft': {'x': 568, 'y': 369}, 'bottomright': {'x': 687, 'y': 434}}, {'label': 'HINDI', 'confidence': 0.0050099683, 'topleft': {'x': 630, 'y': 366}, 'bottomright': {'x': 714, 'y': 433}}, {'label': 'HINDI', 'confidence': 0.004315098, 'topleft': {'x': 544, 'y': 362}, 'bottomright': {'x': 714, 'y': 446}}, {'label': 'HINDI', 'confidence': 0.0071025454, 'topleft': {'x': 0, 'y': 389}, 'bottomright': {'x': 81, 'y': 491}}, {'label': 'HINDI', 'confidence': 0.0071096546, 'topleft': {'x': 14, 'y': 386}, 'bottomright': {'x': 136, 'y': 497}}, {'label': 'HINDI', 'confidence': 0.008791625, 'topleft': {'x': 126, 'y': 391}, 'bottomright': {'x': 252, 'y': 494}}, {'label': 'HINDI', 'confidence': 0.003970738, 'topleft': {'x': 112, 'y': 413}, 'bottomright': {'x': 382, 'y': 477}}, {'label': 'HINDI', 'confidence': 0.0042558317, 'topleft': {'x': 343, 'y': 387}, 'bottomright': {'x': 472, 'y': 499}}, {'label': 'HINDI', 'confidence': 0.006443186, 'topleft': {'x': 401, 'y': 393}, 'bottomright': {'x': 525, 'y': 494}}, {'label': 'HINDI', 'confidence': 0.008099934, 'topleft': {'x': 458, 'y': 392}, 'bottomright': {'x': 579, 'y': 494}}, {'label': 'HINDI', 'confidence': 0.009772029, 'topleft': {'x': 375, 'y': 407}, 'bottomright': {'x': 669, 'y': 481}}, {'label': 'HINDI', 'confidence': 0.0066758557, 'topleft': {'x': 507, 'y': 388}, 'bottomright': {'x': 638, 'y': 498}}, {'label': 'HINDI', 'confidence': 0.014071583, 'topleft': {'x': 625, 'y': 390}, 'bottomright': {'x': 714, 'y': 485}}, {'label': 'HINDI', 'confidence': 0.013418907, 'topleft': {'x': 0, 'y': 438}, 'bottomright': {'x': 63, 'y': 499}}, {'label': 'HINDI', 'confidence': 0.015540284, 'topleft': {'x': 0, 'y': 446}, 'bottomright': {'x': 147, 'y': 499}}, {'label': 'HINDI', 'confidence': 0.01130937, 'topleft': {'x': 0, 'y': 284}, 'bottomright': {'x': 213, 'y': 499}}, {'label': 'HINDI', 'confidence': 0.016774712, 'topleft': {'x': 0, 'y': 421}, 'bottomright': {'x': 276, 'y': 499}}, {'label': 'HINDI', 'confidence': 0.008351362, 'topleft': {'x': 23, 'y': 439}, 'bottomright': {'x': 122, 'y': 499}}, {'label': 'HINDI', 'confidence': 0.0074882708, 'topleft': {'x': 80, 'y': 437}, 'bottomright': {'x': 176, 'y': 499}}, {'label': 'HINDI', 'confidence': 0.010214365, 'topleft': {'x': 138, 'y': 438}, 'bottomright': {'x': 230, 'y': 499}}, {'label': 'HINDI', 'confidence': 0.011955047, 'topleft': {'x': 84, 'y': 450}, 'bottomright': {'x': 297, 'y': 499}}, {'label': 'HINDI', 'confidence': 0.008767817, 'topleft': {'x': 192, 'y': 438}, 'bottomright': {'x': 285, 'y': 499}}, {'label': 'HINDI', 'confidence': 0.0077039395, 'topleft': {'x': 247, 'y': 436}, 'bottomright': {'x': 341, 'y': 499}}, {'label': 'HINDI', 'confidence': 0.008224744, 'topleft': {'x': 302, 'y': 435}, 'bottomright': {'x': 395, 'y': 499}}, {'label': 'HINDI', 'confidence': 0.01204274, 'topleft': {'x': 249, 'y': 453}, 'bottomright': {'x': 462, 'y': 499}}, {'label': 'HINDI', 'confidence': 0.008503922, 'topleft': {'x': 359, 'y': 437}, 'bottomright': {'x': 449, 'y': 499}}, {'label': 'HINDI', 'confidence': 0.008951693, 'topleft': {'x': 414, 'y': 440}, 'bottomright': {'x': 503, 'y': 499}}, {'label': 'HINDI', 'confidence': 0.010511098, 'topleft': {'x': 468, 'y': 441}, 'bottomright': {'x': 559, 'y': 499}}, {'label': 'HINDI', 'confidence': 0.014244477, 'topleft': {'x': 408, 'y': 450}, 'bottomright': {'x': 632, 'y': 499}}, {'label': 'HINDI', 'confidence': 0.01618375, 'topleft': {'x': 320, 'y': 415}, 'bottomright': {'x': 714, 'y': 499}}, {'label': 'HINDI', 'confidence': 0.009677379, 'topleft': {'x': 524, 'y': 439}, 'bottomright': {'x': 613, 'y': 499}}, {'label': 'HINDI', 'confidence': 0.008504578, 'topleft': {'x': 574, 'y': 437}, 'bottomright': {'x': 673, 'y': 499}}, {'label': 'HINDI', 'confidence': 0.011698598, 'topleft': {'x': 636, 'y': 435}, 'bottomright': {'x': 714, 'y': 499}}, {'label': 'HINDI', 'confidence': 0.011995178, 'topleft': {'x': 563, 'y': 444}, 'bottomright': {'x': 714, 'y': 499}}, {'label': 'HINDI', 'confidence': 0.016134022, 'topleft': {'x': 511, 'y': 419}, 'bottomright': {'x': 714, 'y': 499}}, {'label': 'HINDI', 'confidence': 0.011111261, 'topleft': {'x': 364, 'y': 325}, 'bottomright': {'x': 714, 'y': 499}}]
In [18]:
fig, ax = plt.subplots(figsize=(15, 15))
ax.imshow(original_img)
Out[18]:
<matplotlib.image.AxesImage at 0x7ff0d018e278>

In [0]:
def boxing(original_img , predictions):
    newImage = np.copy(original_img)

    for result in predictions:
        top_x = result['topleft']['x']
        top_y = result['topleft']['y']

        btm_x = result['bottomright']['x']
        btm_y = result['bottomright']['y']

        confidence = result['confidence']
        label = result['label'] + " " + str(round(confidence, 3))
        
        if confidence > 0.1:
            newImage = cv2.rectangle(newImage, (top_x, top_y), (btm_x, btm_y), (255,0,0), 3)
            newImage = cv2.putText(newImage, label, (top_x, top_y-5), cv2.FONT_HERSHEY_COMPLEX_SMALL , 0.8, (0, 230, 0), 1, cv2.LINE_AA)
        
    return newImage
In [20]:
fig, ax = plt.subplots(figsize=(20, 10))
ax.imshow(boxing(original_img, results))
Out[20]:
<matplotlib.image.AxesImage at 0x7ff0dd9e9da0>

In [21]:
#2example
import pprint as pp

original_img = cv2.imread("/content/gdrive/My Drive/YOLOV2/Copy of 195.jpg")
original_img = cv2.cvtColor(original_img, cv2.COLOR_BGR2RGB)
results = tfnet2.return_predict(original_img)
print(results)
[{'label': 'HINDI', 'confidence': 0.012648034, 'topleft': {'x': 0, 'y': 0}, 'bottomright': {'x': 84, 'y': 43}}, {'label': 'HINDI', 'confidence': 0.01392224, 'topleft': {'x': 0, 'y': 0}, 'bottomright': {'x': 131, 'y': 63}}, {'label': 'HINDI', 'confidence': 0.010749792, 'topleft': {'x': 0, 'y': 0}, 'bottomright': {'x': 248, 'y': 265}}, {'label': 'HINDI', 'confidence': 0.008163026, 'topleft': {'x': 16, 'y': 0}, 'bottomright': {'x': 140, 'y': 45}}, {'label': 'HINDI', 'confidence': 0.011658746, 'topleft': {'x': 75, 'y': 0}, 'bottomright': {'x': 191, 'y': 48}}, {'label': 'HINDI', 'confidence': 0.00990162, 'topleft': {'x': 142, 'y': 0}, 'bottomright': {'x': 363, 'y': 55}}, {'label': 'HINDI', 'confidence': 0.010475144, 'topleft': {'x': 297, 'y': 0}, 'bottomright': {'x': 411, 'y': 44}}, {'label': 'HINDI', 'confidence': 0.013416946, 'topleft': {'x': 353, 'y': 0}, 'bottomright': {'x': 463, 'y': 44}}, {'label': 'HINDI', 'confidence': 0.011067336, 'topleft': {'x': 169, 'y': 0}, 'bottomright': {'x': 658, 'y': 252}}, {'label': 'HINDI', 'confidence': 0.010401362, 'topleft': {'x': 406, 'y': 0}, 'bottomright': {'x': 520, 'y': 50}}, {'label': 'HINDI', 'confidence': 0.010858272, 'topleft': {'x': 462, 'y': 0}, 'bottomright': {'x': 578, 'y': 50}}, {'label': 'HINDI', 'confidence': 0.009968114, 'topleft': {'x': 513, 'y': 0}, 'bottomright': {'x': 637, 'y': 45}}, {'label': 'HINDI', 'confidence': 0.00637622, 'topleft': {'x': 570, 'y': 0}, 'bottomright': {'x': 688, 'y': 46}}, {'label': 'HINDI', 'confidence': 0.012904155, 'topleft': {'x': 630, 'y': 0}, 'bottomright': {'x': 714, 'y': 51}}, {'label': 'HINDI', 'confidence': 0.0101186605, 'topleft': {'x': 462, 'y': 0}, 'bottomright': {'x': 714, 'y': 270}}, {'label': 'HINDI', 'confidence': 0.009613016, 'topleft': {'x': 18, 'y': 9}, 'bottomright': {'x': 131, 'y': 97}}, {'label': 'HINDI', 'confidence': 0.009235992, 'topleft': {'x': 73, 'y': 2}, 'bottomright': {'x': 193, 'y': 101}}, {'label': 'HINDI', 'confidence': 0.0136571955, 'topleft': {'x': 134, 'y': 0}, 'bottomright': {'x': 241, 'y': 103}}, {'label': 'HINDI', 'confidence': 0.015463349, 'topleft': {'x': 0, 'y': 0}, 'bottomright': {'x': 445, 'y': 120}}, {'label': 'HINDI', 'confidence': 0.010371392, 'topleft': {'x': 192, 'y': 8}, 'bottomright': {'x': 295, 'y': 96}}, {'label': 'HINDI', 'confidence': 0.010354544, 'topleft': {'x': 240, 'y': 6}, 'bottomright': {'x': 354, 'y': 98}}, {'label': 'HINDI', 'confidence': 0.012078688, 'topleft': {'x': 296, 'y': 2}, 'bottomright': {'x': 407, 'y': 102}}, {'label': 'HINDI', 'confidence': 0.013602928, 'topleft': {'x': 355, 'y': 3}, 'bottomright': {'x': 459, 'y': 102}}, {'label': 'HINDI', 'confidence': 0.013272626, 'topleft': {'x': 174, 'y': 0}, 'bottomright': {'x': 649, 'y': 136}}, {'label': 'HINDI', 'confidence': 0.012575341, 'topleft': {'x': 407, 'y': 2}, 'bottomright': {'x': 515, 'y': 103}}, {'label': 'HINDI', 'confidence': 0.00749188, 'topleft': {'x': 463, 'y': 0}, 'bottomright': {'x': 572, 'y': 104}}, {'label': 'HINDI', 'confidence': 0.006603358, 'topleft': {'x': 512, 'y': 0}, 'bottomright': {'x': 632, 'y': 104}}, {'label': 'HINDI', 'confidence': 0.009280448, 'topleft': {'x': 593, 'y': 1}, 'bottomright': {'x': 714, 'y': 108}}, {'label': 'HINDI', 'confidence': 0.010477136, 'topleft': {'x': 430, 'y': 0}, 'bottomright': {'x': 714, 'y': 124}}, {'label': 'HINDI', 'confidence': 0.008878091, 'topleft': {'x': 0, 'y': 55}, 'bottomright': {'x': 75, 'y': 129}}, {'label': 'HINDI', 'confidence': 0.0066980263, 'topleft': {'x': 0, 'y': 47}, 'bottomright': {'x': 133, 'y': 149}}, {'label': 'HINDI', 'confidence': 0.014771896, 'topleft': {'x': 29, 'y': 54}, 'bottomright': {'x': 120, 'y': 130}}, {'label': 'HINDI', 'confidence': 0.010425858, 'topleft': {'x': 83, 'y': 51}, 'bottomright': {'x': 179, 'y': 134}}, {'label': 'HINDI', 'confidence': 0.0040038913, 'topleft': {'x': 17, 'y': 51}, 'bottomright': {'x': 258, 'y': 141}}, {'label': 'HINDI', 'confidence': 0.008716825, 'topleft': {'x': 0, 'y': 0}, 'bottomright': {'x': 480, 'y': 227}}, {'label': 'HINDI', 'confidence': 0.010150442, 'topleft': {'x': 137, 'y': 49}, 'bottomright': {'x': 238, 'y': 136}}, {'label': 'HINDI', 'confidence': 0.010180089, 'topleft': {'x': 194, 'y': 48}, 'bottomright': {'x': 294, 'y': 137}}, {'label': 'HINDI', 'confidence': 0.0070012123, 'topleft': {'x': 244, 'y': 49}, 'bottomright': {'x': 352, 'y': 139}}, {'label': 'HINDI', 'confidence': 0.009374497, 'topleft': {'x': 302, 'y': 48}, 'bottomright': {'x': 406, 'y': 140}}, {'label': 'HINDI', 'confidence': 0.013034138, 'topleft': {'x': 360, 'y': 45}, 'bottomright': {'x': 456, 'y': 143}}, {'label': 'HINDI', 'confidence': 0.0112222, 'topleft': {'x': 416, 'y': 43}, 'bottomright': {'x': 509, 'y': 143}}, {'label': 'HINDI', 'confidence': 0.0039416347, 'topleft': {'x': 344, 'y': 50}, 'bottomright': {'x': 592, 'y': 139}}, {'label': 'HINDI', 'confidence': 0.009055174, 'topleft': {'x': 470, 'y': 42}, 'bottomright': {'x': 566, 'y': 143}}, {'label': 'HINDI', 'confidence': 0.0066945916, 'topleft': {'x': 524, 'y': 43}, 'bottomright': {'x': 621, 'y': 142}}, {'label': 'HINDI', 'confidence': 0.0053697815, 'topleft': {'x': 581, 'y': 43}, 'bottomright': {'x': 673, 'y': 143}}, {'label': 'HINDI', 'confidence': 0.004409862, 'topleft': {'x': 503, 'y': 43}, 'bottomright': {'x': 714, 'y': 147}}, {'label': 'HINDI', 'confidence': 0.008597821, 'topleft': {'x': 634, 'y': 41}, 'bottomright': {'x': 714, 'y': 141}}, {'label': 'HINDI', 'confidence': 0.0067306897, 'topleft': {'x': 0, 'y': 95}, 'bottomright': {'x': 82, 'y': 170}}, {'label': 'HINDI', 'confidence': 0.0068286844, 'topleft': {'x': 25, 'y': 92}, 'bottomright': {'x': 125, 'y': 176}}, {'label': 'HINDI', 'confidence': 0.004751313, 'topleft': {'x': 78, 'y': 88}, 'bottomright': {'x': 185, 'y': 182}}, {'label': 'HINDI', 'confidence': 0.0047857645, 'topleft': {'x': 129, 'y': 82}, 'bottomright': {'x': 249, 'y': 188}}, {'label': 'HINDI', 'confidence': 0.0027130134, 'topleft': {'x': 340, 'y': 67}, 'bottomright': {'x': 476, 'y': 208}}, {'label': 'HINDI', 'confidence': 0.0035313377, 'topleft': {'x': 397, 'y': 78}, 'bottomright': {'x': 528, 'y': 196}}, {'label': 'HINDI', 'confidence': 0.005467244, 'topleft': {'x': 461, 'y': 84}, 'bottomright': {'x': 579, 'y': 187}}, {'label': 'HINDI', 'confidence': 0.0045081275, 'topleft': {'x': 518, 'y': 84}, 'bottomright': {'x': 631, 'y': 185}}, {'label': 'HINDI', 'confidence': 0.003462227, 'topleft': {'x': 577, 'y': 90}, 'bottomright': {'x': 680, 'y': 181}}, {'label': 'HINDI', 'confidence': 0.005628389, 'topleft': {'x': 639, 'y': 87}, 'bottomright': {'x': 714, 'y': 178}}, {'label': 'HINDI', 'confidence': 0.0064222156, 'topleft': {'x': 0, 'y': 136}, 'bottomright': {'x': 79, 'y': 206}}, {'label': 'HINDI', 'confidence': 0.0063728276, 'topleft': {'x': 0, 'y': 117}, 'bottomright': {'x': 134, 'y': 233}}, {'label': 'HINDI', 'confidence': 0.007121024, 'topleft': {'x': 0, 'y': 0}, 'bottomright': {'x': 162, 'y': 369}}, {'label': 'HINDI', 'confidence': 0.0066192825, 'topleft': {'x': 0, 'y': 94}, 'bottomright': {'x': 274, 'y': 247}}, {'label': 'HINDI', 'confidence': 0.0047846837, 'topleft': {'x': 28, 'y': 134}, 'bottomright': {'x': 124, 'y': 213}}, {'label': 'HINDI', 'confidence': 0.003831546, 'topleft': {'x': 80, 'y': 128}, 'bottomright': {'x': 188, 'y': 222}}, {'label': 'HINDI', 'confidence': 0.010184303, 'topleft': {'x': 183, 'y': 111}, 'bottomright': {'x': 309, 'y': 239}}, {'label': 'HINDI', 'confidence': 0.0036700654, 'topleft': {'x': 523, 'y': 127}, 'bottomright': {'x': 628, 'y': 223}}, {'label': 'HINDI', 'confidence': 0.0040298053, 'topleft': {'x': 579, 'y': 136}, 'bottomright': {'x': 682, 'y': 216}}, {'label': 'HINDI', 'confidence': 0.0050794873, 'topleft': {'x': 642, 'y': 134}, 'bottomright': {'x': 714, 'y': 213}}, {'label': 'HINDI', 'confidence': 0.005418215, 'topleft': {'x': 575, 'y': 114}, 'bottomright': {'x': 714, 'y': 233}}, {'label': 'HINDI', 'confidence': 0.004916341, 'topleft': {'x': 0, 'y': 175}, 'bottomright': {'x': 84, 'y': 242}}, {'label': 'HINDI', 'confidence': 0.003318978, 'topleft': {'x': 27, 'y': 175}, 'bottomright': {'x': 125, 'y': 245}}, {'label': 'HINDI', 'confidence': 0.0030058073, 'topleft': {'x': 74, 'y': 171}, 'bottomright': {'x': 192, 'y': 253}}, {'label': 'HINDI', 'confidence': 0.003128179, 'topleft': {'x': 122, 'y': 167}, 'bottomright': {'x': 261, 'y': 257}}, {'label': 'HINDI', 'confidence': 0.0010709302, 'topleft': {'x': 232, 'y': 197}, 'bottomright': {'x': 570, 'y': 227}}, {'label': 'HINDI', 'confidence': 0.08672889, 'topleft': {'x': 234, 'y': 134}, 'bottomright': {'x': 582, 'y': 271}}, {'label': 'HINDI', 'confidence': 0.004272689, 'topleft': {'x': 440, 'y': 165}, 'bottomright': {'x': 597, 'y': 259}}, {'label': 'HINDI', 'confidence': 0.0029948985, 'topleft': {'x': 570, 'y': 177}, 'bottomright': {'x': 691, 'y': 249}}, {'label': 'HINDI', 'confidence': 0.004187275, 'topleft': {'x': 512, 'y': 163}, 'bottomright': {'x': 714, 'y': 259}}, {'label': 'HINDI', 'confidence': 0.0040842043, 'topleft': {'x': 637, 'y': 176}, 'bottomright': {'x': 714, 'y': 246}}, {'label': 'HINDI', 'confidence': 0.0044046105, 'topleft': {'x': 0, 'y': 215}, 'bottomright': {'x': 84, 'y': 277}}, {'label': 'HINDI', 'confidence': 0.0026383922, 'topleft': {'x': 25, 'y': 217}, 'bottomright': {'x': 125, 'y': 279}}, {'label': 'HINDI', 'confidence': 0.0036590397, 'topleft': {'x': 74, 'y': 214}, 'bottomright': {'x': 191, 'y': 284}}, {'label': 'HINDI', 'confidence': 0.007734671, 'topleft': {'x': 132, 'y': 216}, 'bottomright': {'x': 250, 'y': 282}}, {'label': 'HINDI', 'confidence': 0.0033729621, 'topleft': {'x': 62, 'y': 212}, 'bottomright': {'x': 317, 'y': 292}}, {'label': 'HINDI', 'confidence': 0.01127868, 'topleft': {'x': 0, 'y': 158}, 'bottomright': {'x': 424, 'y': 340}}, {'label': 'HINDI', 'confidence': 0.005822736, 'topleft': {'x': 187, 'y': 215}, 'bottomright': {'x': 300, 'y': 287}}, {'label': 'HINDI', 'confidence': 0.0018844858, 'topleft': {'x': 289, 'y': 220}, 'bottomright': {'x': 420, 'y': 292}}, {'label': 'HINDI', 'confidence': 0.0029476718, 'topleft': {'x': 443, 'y': 216}, 'bottomright': {'x': 594, 'y': 285}}, {'label': 'HINDI', 'confidence': 0.0035931244, 'topleft': {'x': 634, 'y': 220}, 'bottomright': {'x': 714, 'y': 279}}, {'label': 'HINDI', 'confidence': 0.0052945367, 'topleft': {'x': 0, 'y': 256}, 'bottomright': {'x': 85, 'y': 314}}, {'label': 'HINDI', 'confidence': 0.005161256, 'topleft': {'x': 0, 'y': 239}, 'bottomright': {'x': 128, 'y': 345}}, {'label': 'HINDI', 'confidence': 0.0024473264, 'topleft': {'x': 18, 'y': 258}, 'bottomright': {'x': 133, 'y': 316}}, {'label': 'HINDI', 'confidence': 0.012473566, 'topleft': {'x': 127, 'y': 258}, 'bottomright': {'x': 257, 'y': 319}}, {'label': 'HINDI', 'confidence': 0.0841927, 'topleft': {'x': 260, 'y': 263}, 'bottomright': {'x': 454, 'y': 318}}, {'label': 'HINDI', 'confidence': 0.042142358, 'topleft': {'x': 112, 'y': 158}, 'bottomright': {'x': 603, 'y': 416}}, {'label': 'HINDI', 'confidence': 0.0076487614, 'topleft': {'x': 445, 'y': 259}, 'bottomright': {'x': 592, 'y': 321}}, {'label': 'HINDI', 'confidence': 0.008091162, 'topleft': {'x': 267, 'y': 201}, 'bottomright': {'x': 714, 'y': 369}}, {'label': 'HINDI', 'confidence': 0.003969473, 'topleft': {'x': 632, 'y': 260}, 'bottomright': {'x': 714, 'y': 316}}, {'label': 'HINDI', 'confidence': 0.0043080742, 'topleft': {'x': 571, 'y': 245}, 'bottomright': {'x': 714, 'y': 334}}, {'label': 'HINDI', 'confidence': 0.004527671, 'topleft': {'x': 0, 'y': 295}, 'bottomright': {'x': 81, 'y': 355}}, {'label': 'HINDI', 'confidence': 0.0017874993, 'topleft': {'x': 17, 'y': 297}, 'bottomright': {'x': 132, 'y': 357}}, {'label': 'HINDI', 'confidence': 0.007300829, 'topleft': {'x': 129, 'y': 299}, 'bottomright': {'x': 252, 'y': 359}}, {'label': 'HINDI', 'confidence': 0.0058452953, 'topleft': {'x': 33, 'y': 298}, 'bottomright': {'x': 342, 'y': 359}}, {'label': 'HINDI', 'confidence': 0.0029395085, 'topleft': {'x': 273, 'y': 291}, 'bottomright': {'x': 438, 'y': 363}}, {'label': 'HINDI', 'confidence': 0.004657899, 'topleft': {'x': 378, 'y': 301}, 'bottomright': {'x': 655, 'y': 357}}, {'label': 'HINDI', 'confidence': 0.0041663987, 'topleft': {'x': 633, 'y': 296}, 'bottomright': {'x': 714, 'y': 358}}, {'label': 'HINDI', 'confidence': 0.0043011825, 'topleft': {'x': 570, 'y': 291}, 'bottomright': {'x': 714, 'y': 365}}, {'label': 'HINDI', 'confidence': 0.0061624907, 'topleft': {'x': 0, 'y': 331}, 'bottomright': {'x': 82, 'y': 393}}, {'label': 'HINDI', 'confidence': 0.0056670485, 'topleft': {'x': 0, 'y': 331}, 'bottomright': {'x': 161, 'y': 404}}, {'label': 'HINDI', 'confidence': 0.007557424, 'topleft': {'x': 0, 'y': 201}, 'bottomright': {'x': 186, 'y': 499}}, {'label': 'HINDI', 'confidence': 0.0027128998, 'topleft': {'x': 19, 'y': 331}, 'bottomright': {'x': 130, 'y': 394}}, {'label': 'HINDI', 'confidence': 0.0037410746, 'topleft': {'x': 66, 'y': 330}, 'bottomright': {'x': 199, 'y': 398}}, {'label': 'HINDI', 'confidence': 0.0041908794, 'topleft': {'x': 127, 'y': 336}, 'bottomright': {'x': 249, 'y': 392}}, {'label': 'HINDI', 'confidence': 0.0051266807, 'topleft': {'x': 13, 'y': 338}, 'bottomright': {'x': 363, 'y': 396}}, {'label': 'HINDI', 'confidence': 0.007523915, 'topleft': {'x': 12, 'y': 263}, 'bottomright': {'x': 378, 'y': 462}}, {'label': 'HINDI', 'confidence': 0.0043887887, 'topleft': {'x': 178, 'y': 338}, 'bottomright': {'x': 307, 'y': 390}}, {'label': 'HINDI', 'confidence': 0.0039924127, 'topleft': {'x': 402, 'y': 341}, 'bottomright': {'x': 714, 'y': 393}}, {'label': 'HINDI', 'confidence': 0.0058191787, 'topleft': {'x': 631, 'y': 332}, 'bottomright': {'x': 714, 'y': 393}}, {'label': 'HINDI', 'confidence': 0.0051196665, 'topleft': {'x': 558, 'y': 333}, 'bottomright': {'x': 714, 'y': 400}}, {'label': 'HINDI', 'confidence': 0.005603369, 'topleft': {'x': 0, 'y': 366}, 'bottomright': {'x': 79, 'y': 434}}, {'label': 'HINDI', 'confidence': 0.0053528845, 'topleft': {'x': 0, 'y': 355}, 'bottomright': {'x': 202, 'y': 451}}, {'label': 'HINDI', 'confidence': 0.0027118023, 'topleft': {'x': 19, 'y': 361}, 'bottomright': {'x': 133, 'y': 438}}, {'label': 'HINDI', 'confidence': 0.004691142, 'topleft': {'x': 123, 'y': 364}, 'bottomright': {'x': 252, 'y': 438}}, {'label': 'HINDI', 'confidence': 0.006938937, 'topleft': {'x': 12, 'y': 365}, 'bottomright': {'x': 366, 'y': 439}}, {'label': 'HINDI', 'confidence': 0.005269838, 'topleft': {'x': 178, 'y': 365}, 'bottomright': {'x': 308, 'y': 436}}, {'label': 'HINDI', 'confidence': 0.0034176575, 'topleft': {'x': 285, 'y': 365}, 'bottomright': {'x': 419, 'y': 435}}, {'label': 'HINDI', 'confidence': 0.005092336, 'topleft': {'x': 178, 'y': 369}, 'bottomright': {'x': 533, 'y': 433}}, {'label': 'HINDI', 'confidence': 0.0028911354, 'topleft': {'x': 391, 'y': 367}, 'bottomright': {'x': 535, 'y': 434}}, {'label': 'HINDI', 'confidence': 0.0052203387, 'topleft': {'x': 339, 'y': 364}, 'bottomright': {'x': 701, 'y': 438}}, {'label': 'HINDI', 'confidence': 0.008203841, 'topleft': {'x': 554, 'y': 363}, 'bottomright': {'x': 714, 'y': 443}}, {'label': 'HINDI', 'confidence': 0.008044261, 'topleft': {'x': 0, 'y': 386}, 'bottomright': {'x': 82, 'y': 493}}, {'label': 'HINDI', 'confidence': 0.007581258, 'topleft': {'x': 0, 'y': 404}, 'bottomright': {'x': 156, 'y': 488}}, {'label': 'HINDI', 'confidence': 0.006383604, 'topleft': {'x': 14, 'y': 381}, 'bottomright': {'x': 136, 'y': 499}}, {'label': 'HINDI', 'confidence': 0.0068479367, 'topleft': {'x': 67, 'y': 381}, 'bottomright': {'x': 194, 'y': 499}}, {'label': 'HINDI', 'confidence': 0.008307819, 'topleft': {'x': 127, 'y': 382}, 'bottomright': {'x': 247, 'y': 499}}, {'label': 'HINDI', 'confidence': 0.0088044405, 'topleft': {'x': 44, 'y': 404}, 'bottomright': {'x': 337, 'y': 487}}, {'label': 'HINDI', 'confidence': 0.0063242335, 'topleft': {'x': 175, 'y': 382}, 'bottomright': {'x': 308, 'y': 499}}, {'label': 'HINDI', 'confidence': 0.0057631335, 'topleft': {'x': 285, 'y': 383}, 'bottomright': {'x': 418, 'y': 499}}, {'label': 'HINDI', 'confidence': 0.0059396275, 'topleft': {'x': 397, 'y': 383}, 'bottomright': {'x': 526, 'y': 499}}, {'label': 'HINDI', 'confidence': 0.008179608, 'topleft': {'x': 375, 'y': 406}, 'bottomright': {'x': 666, 'y': 485}}, {'label': 'HINDI', 'confidence': 0.0150978295, 'topleft': {'x': 618, 'y': 387}, 'bottomright': {'x': 714, 'y': 488}}, {'label': 'HINDI', 'confidence': 0.013202163, 'topleft': {'x': 0, 'y': 436}, 'bottomright': {'x': 63, 'y': 499}}, {'label': 'HINDI', 'confidence': 0.015069677, 'topleft': {'x': 0, 'y': 446}, 'bottomright': {'x': 137, 'y': 499}}, {'label': 'HINDI', 'confidence': 0.011989149, 'topleft': {'x': 0, 'y': 278}, 'bottomright': {'x': 232, 'y': 499}}, {'label': 'HINDI', 'confidence': 0.017275104, 'topleft': {'x': 0, 'y': 419}, 'bottomright': {'x': 282, 'y': 499}}, {'label': 'HINDI', 'confidence': 0.009802733, 'topleft': {'x': 137, 'y': 435}, 'bottomright': {'x': 229, 'y': 499}}, {'label': 'HINDI', 'confidence': 0.011771379, 'topleft': {'x': 87, 'y': 449}, 'bottomright': {'x': 293, 'y': 499}}, {'label': 'HINDI', 'confidence': 0.00830165, 'topleft': {'x': 192, 'y': 435}, 'bottomright': {'x': 283, 'y': 499}}, {'label': 'HINDI', 'confidence': 0.0071060034, 'topleft': {'x': 245, 'y': 434}, 'bottomright': {'x': 339, 'y': 499}}, {'label': 'HINDI', 'confidence': 0.007517184, 'topleft': {'x': 302, 'y': 435}, 'bottomright': {'x': 395, 'y': 499}}, {'label': 'HINDI', 'confidence': 0.008574846, 'topleft': {'x': 358, 'y': 435}, 'bottomright': {'x': 448, 'y': 499}}, {'label': 'HINDI', 'confidence': 0.014902121, 'topleft': {'x': 200, 'y': 417}, 'bottomright': {'x': 633, 'y': 499}}, {'label': 'HINDI', 'confidence': 0.009758772, 'topleft': {'x': 415, 'y': 435}, 'bottomright': {'x': 502, 'y': 499}}, {'label': 'HINDI', 'confidence': 0.013128114, 'topleft': {'x': 364, 'y': 450}, 'bottomright': {'x': 565, 'y': 499}}, {'label': 'HINDI', 'confidence': 0.009363168, 'topleft': {'x': 468, 'y': 433}, 'bottomright': {'x': 558, 'y': 499}}, {'label': 'HINDI', 'confidence': 0.008385353, 'topleft': {'x': 520, 'y': 432}, 'bottomright': {'x': 616, 'y': 499}}, {'label': 'HINDI', 'confidence': 0.008786864, 'topleft': {'x': 469, 'y': 449}, 'bottomright': {'x': 681, 'y': 499}}, {'label': 'HINDI', 'confidence': 0.0068434374, 'topleft': {'x': 572, 'y': 433}, 'bottomright': {'x': 674, 'y': 499}}, {'label': 'HINDI', 'confidence': 0.01215772, 'topleft': {'x': 640, 'y': 432}, 'bottomright': {'x': 714, 'y': 499}}, {'label': 'HINDI', 'confidence': 0.0150847165, 'topleft': {'x': 521, 'y': 417}, 'bottomright': {'x': 714, 'y': 499}}, {'label': 'HINDI', 'confidence': 0.011634512, 'topleft': {'x': 363, 'y': 331}, 'bottomright': {'x': 714, 'y': 499}}]
In [22]:
fig, ax = plt.subplots(figsize=(15, 15))
ax.imshow(original_img)
Out[22]:
<matplotlib.image.AxesImage at 0x7ff0dda485c0>

In [0]:
def boxing(original_img , predictions):
    newImage = np.copy(original_img)

    for result in predictions:
        top_x = result['topleft']['x']
        top_y = result['topleft']['y']

        btm_x = result['bottomright']['x']
        btm_y = result['bottomright']['y']

        confidence = result['confidence']
        label = result['label'] + " " + str(round(confidence, 3))
        
        if confidence > 0.1:
            newImage = cv2.rectangle(newImage, (top_x, top_y), (btm_x, btm_y), (255,0,0), 3)
            newImage = cv2.putText(newImage, label, (top_x, top_y-5), cv2.FONT_HERSHEY_COMPLEX_SMALL , 0.8, (0, 230, 0), 1, cv2.LINE_AA)
        
    return newImage
In [24]:
fig, ax = plt.subplots(figsize=(20, 10))
ax.imshow(boxing(original_img, results))
Out[24]:
<matplotlib.image.AxesImage at 0x7ff0ddc705c0>

In [25]:
#3example
import pprint as pp

original_img = cv2.imread("/content/gdrive/My Drive/YOLOV2/example1.jpg")
original_img = cv2.cvtColor(original_img, cv2.COLOR_BGR2RGB)
results = tfnet2.return_predict(original_img)
print(results)
[{'label': 'HINDI', 'confidence': 0.008930879, 'topleft': {'x': 0, 'y': 0}, 'bottomright': {'x': 54, 'y': 50}}, {'label': 'HINDI', 'confidence': 0.00783602, 'topleft': {'x': 0, 'y': 0}, 'bottomright': {'x': 99, 'y': 229}}, {'label': 'HINDI', 'confidence': 0.0074479426, 'topleft': {'x': 0, 'y': 0}, 'bottomright': {'x': 161, 'y': 126}}, {'label': 'HINDI', 'confidence': 0.005788517, 'topleft': {'x': 32, 'y': 0}, 'bottomright': {'x': 88, 'y': 43}}, {'label': 'HINDI', 'confidence': 0.006341162, 'topleft': {'x': 46, 'y': 0}, 'bottomright': {'x': 132, 'y': 42}}, {'label': 'HINDI', 'confidence': 0.007197484, 'topleft': {'x': 122, 'y': 0}, 'bottomright': {'x': 208, 'y': 42}}, {'label': 'HINDI', 'confidence': 0.0074816006, 'topleft': {'x': 69, 'y': 0}, 'bottomright': {'x': 258, 'y': 52}}, {'label': 'HINDI', 'confidence': 0.0069743157, 'topleft': {'x': 15, 'y': 0}, 'bottomright': {'x': 314, 'y': 100}}, {'label': 'HINDI', 'confidence': 0.005703684, 'topleft': {'x': 180, 'y': 0}, 'bottomright': {'x': 241, 'y': 43}}, {'label': 'HINDI', 'confidence': 0.006396377, 'topleft': {'x': 207, 'y': 0}, 'bottomright': {'x': 264, 'y': 43}}, {'label': 'HINDI', 'confidence': 0.0051710145, 'topleft': {'x': 153, 'y': 0}, 'bottomright': {'x': 326, 'y': 52}}, {'label': 'HINDI', 'confidence': 0.006134626, 'topleft': {'x': 232, 'y': 0}, 'bottomright': {'x': 290, 'y': 42}}, {'label': 'HINDI', 'confidence': 0.0110361865, 'topleft': {'x': 276, 'y': 0}, 'bottomright': {'x': 326, 'y': 46}}, {'label': 'HINDI', 'confidence': 0.009162477, 'topleft': {'x': 184, 'y': 0}, 'bottomright': {'x': 326, 'y': 215}}, {'label': 'HINDI', 'confidence': 0.009089078, 'topleft': {'x': 227, 'y': 0}, 'bottomright': {'x': 326, 'y': 56}}, {'label': 'HINDI', 'confidence': 0.0058029224, 'topleft': {'x': 0, 'y': 5}, 'bottomright': {'x': 33, 'y': 78}}, {'label': 'HINDI', 'confidence': 0.0066689313, 'topleft': {'x': 0, 'y': 4}, 'bottomright': {'x': 126, 'y': 90}}, {'label': 'HINDI', 'confidence': 0.006583909, 'topleft': {'x': 11, 'y': 1}, 'bottomright': {'x': 57, 'y': 82}}, {'label': 'HINDI', 'confidence': 0.0044368855, 'topleft': {'x': 0, 'y': 20}, 'bottomright': {'x': 86, 'y': 71}}, {'label': 'HINDI', 'confidence': 0.004231762, 'topleft': {'x': 57, 'y': 1}, 'bottomright': {'x': 113, 'y': 82}}, {'label': 'HINDI', 'confidence': 0.00546453, 'topleft': {'x': 129, 'y': 4}, 'bottomright': {'x': 192, 'y': 81}}, {'label': 'HINDI', 'confidence': 0.005267012, 'topleft': {'x': 61, 'y': 10}, 'bottomright': {'x': 266, 'y': 88}}, {'label': 'HINDI', 'confidence': 0.0032721162, 'topleft': {'x': 146, 'y': 23}, 'bottomright': {'x': 234, 'y': 68}}, {'label': 'HINDI', 'confidence': 0.004267655, 'topleft': {'x': 178, 'y': 2}, 'bottomright': {'x': 242, 'y': 82}}, {'label': 'HINDI', 'confidence': 0.004174764, 'topleft': {'x': 209, 'y': 0}, 'bottomright': {'x': 263, 'y': 82}}, {'label': 'HINDI', 'confidence': 0.0042212685, 'topleft': {'x': 235, 'y': 1}, 'bottomright': {'x': 287, 'y': 81}}, {'label': 'HINDI', 'confidence': 0.0046521416, 'topleft': {'x': 261, 'y': 0}, 'bottomright': {'x': 311, 'y': 85}}, {'label': 'HINDI', 'confidence': 0.006375304, 'topleft': {'x': 272, 'y': 13}, 'bottomright': {'x': 326, 'y': 78}}, {'label': 'HINDI', 'confidence': 0.00794538, 'topleft': {'x': 198, 'y': 3}, 'bottomright': {'x': 326, 'y': 91}}, {'label': 'HINDI', 'confidence': 0.0065046763, 'topleft': {'x': 0, 'y': 40}, 'bottomright': {'x': 35, 'y': 108}}, {'label': 'HINDI', 'confidence': 0.008617873, 'topleft': {'x': 11, 'y': 40}, 'bottomright': {'x': 58, 'y': 110}}, {'label': 'HINDI', 'confidence': 0.0060795476, 'topleft': {'x': 33, 'y': 40}, 'bottomright': {'x': 86, 'y': 111}}, {'label': 'HINDI', 'confidence': 0.0045666816, 'topleft': {'x': 57, 'y': 42}, 'bottomright': {'x': 114, 'y': 110}}, {'label': 'HINDI', 'confidence': 0.0042027906, 'topleft': {'x': 127, 'y': 44}, 'bottomright': {'x': 195, 'y': 112}}, {'label': 'HINDI', 'confidence': 0.005047634, 'topleft': {'x': 179, 'y': 41}, 'bottomright': {'x': 242, 'y': 112}}, {'label': 'HINDI', 'confidence': 0.0048649027, 'topleft': {'x': 208, 'y': 41}, 'bottomright': {'x': 265, 'y': 111}}, {'label': 'HINDI', 'confidence': 0.0038400514, 'topleft': {'x': 235, 'y': 39}, 'bottomright': {'x': 288, 'y': 111}}, {'label': 'HINDI', 'confidence': 0.0051957453, 'topleft': {'x': 288, 'y': 38}, 'bottomright': {'x': 326, 'y': 110}}, {'label': 'HINDI', 'confidence': 0.004991199, 'topleft': {'x': 0, 'y': 73}, 'bottomright': {'x': 37, 'y': 140}}, {'label': 'HINDI', 'confidence': 0.006194898, 'topleft': {'x': 9, 'y': 74}, 'bottomright': {'x': 59, 'y': 145}}, {'label': 'HINDI', 'confidence': 0.004577472, 'topleft': {'x': 32, 'y': 74}, 'bottomright': {'x': 88, 'y': 149}}, {'label': 'HINDI', 'confidence': 0.0041369903, 'topleft': {'x': 59, 'y': 73}, 'bottomright': {'x': 114, 'y': 151}}, {'label': 'HINDI', 'confidence': 0.0037021684, 'topleft': {'x': 83, 'y': 73}, 'bottomright': {'x': 140, 'y': 152}}, {'label': 'HINDI', 'confidence': 0.005019271, 'topleft': {'x': 208, 'y': 76}, 'bottomright': {'x': 266, 'y': 147}}, {'label': 'HINDI', 'confidence': 0.004650256, 'topleft': {'x': 235, 'y': 75}, 'bottomright': {'x': 289, 'y': 146}}, {'label': 'HINDI', 'confidence': 0.0025772832, 'topleft': {'x': 261, 'y': 78}, 'bottomright': {'x': 313, 'y': 142}}, {'label': 'HINDI', 'confidence': 0.003648496, 'topleft': {'x': 290, 'y': 74}, 'bottomright': {'x': 326, 'y': 141}}, {'label': 'HINDI', 'confidence': 0.004925992, 'topleft': {'x': 0, 'y': 110}, 'bottomright': {'x': 39, 'y': 169}}, {'label': 'HINDI', 'confidence': 0.0041975533, 'topleft': {'x': 0, 'y': 98}, 'bottomright': {'x': 60, 'y': 184}}, {'label': 'HINDI', 'confidence': 0.005636697, 'topleft': {'x': 9, 'y': 112}, 'bottomright': {'x': 61, 'y': 172}}, {'label': 'HINDI', 'confidence': 0.0056540505, 'topleft': {'x': 32, 'y': 112}, 'bottomright': {'x': 89, 'y': 177}}, {'label': 'HINDI', 'confidence': 0.005652793, 'topleft': {'x': 61, 'y': 109}, 'bottomright': {'x': 113, 'y': 179}}, {'label': 'HINDI', 'confidence': 0.0047738766, 'topleft': {'x': 87, 'y': 109}, 'bottomright': {'x': 137, 'y': 180}}, {'label': 'HINDI', 'confidence': 0.012599498, 'topleft': {'x': 104, 'y': 107}, 'bottomright': {'x': 217, 'y': 172}}, {'label': 'HINDI', 'confidence': 0.009063333, 'topleft': {'x': 63, 'y': 76}, 'bottomright': {'x': 262, 'y': 203}}, {'label': 'HINDI', 'confidence': 0.006036849, 'topleft': {'x': 208, 'y': 112}, 'bottomright': {'x': 267, 'y': 177}}, {'label': 'HINDI', 'confidence': 0.005773643, 'topleft': {'x': 234, 'y': 111}, 'bottomright': {'x': 291, 'y': 176}}, {'label': 'HINDI', 'confidence': 0.0034080788, 'topleft': {'x': 259, 'y': 113}, 'bottomright': {'x': 317, 'y': 173}}, {'label': 'HINDI', 'confidence': 0.0035870709, 'topleft': {'x': 289, 'y': 110}, 'bottomright': {'x': 326, 'y': 170}}, {'label': 'HINDI', 'confidence': 0.0048848055, 'topleft': {'x': 0, 'y': 142}, 'bottomright': {'x': 39, 'y': 197}}, {'label': 'HINDI', 'confidence': 0.0045434604, 'topleft': {'x': 10, 'y': 145}, 'bottomright': {'x': 59, 'y': 200}}, {'label': 'HINDI', 'confidence': 0.006550758, 'topleft': {'x': 33, 'y': 144}, 'bottomright': {'x': 89, 'y': 205}}, {'label': 'HINDI', 'confidence': 0.00810999, 'topleft': {'x': 0, 'y': 46}, 'bottomright': {'x': 199, 'y': 294}}, {'label': 'HINDI', 'confidence': 0.006478594, 'topleft': {'x': 60, 'y': 142}, 'bottomright': {'x': 115, 'y': 207}}, {'label': 'HINDI', 'confidence': 0.004283339, 'topleft': {'x': 85, 'y': 140}, 'bottomright': {'x': 140, 'y': 209}}, {'label': 'HINDI', 'confidence': 0.0052609975, 'topleft': {'x': 102, 'y': 145}, 'bottomright': {'x': 218, 'y': 199}}, {'label': 'HINDI', 'confidence': 0.006528756, 'topleft': {'x': 207, 'y': 145}, 'bottomright': {'x': 270, 'y': 203}}, {'label': 'HINDI', 'confidence': 0.0037052685, 'topleft': {'x': 258, 'y': 145}, 'bottomright': {'x': 317, 'y': 202}}, {'label': 'HINDI', 'confidence': 0.0045131743, 'topleft': {'x': 224, 'y': 130}, 'bottomright': {'x': 326, 'y': 214}}, {'label': 'HINDI', 'confidence': 0.003536118, 'topleft': {'x': 289, 'y': 143}, 'bottomright': {'x': 326, 'y': 198}}, {'label': 'HINDI', 'confidence': 0.0046951603, 'topleft': {'x': 0, 'y': 174}, 'bottomright': {'x': 37, 'y': 225}}, {'label': 'HINDI', 'confidence': 0.0031371505, 'topleft': {'x': 10, 'y': 177}, 'bottomright': {'x': 58, 'y': 227}}, {'label': 'HINDI', 'confidence': 0.0059436294, 'topleft': {'x': 59, 'y': 176}, 'bottomright': {'x': 115, 'y': 233}}, {'label': 'HINDI', 'confidence': 0.0131947845, 'topleft': {'x': 107, 'y': 178}, 'bottomright': {'x': 214, 'y': 233}}, {'label': 'HINDI', 'confidence': 0.023094991, 'topleft': {'x': 17, 'y': 104}, 'bottomright': {'x': 308, 'y': 295}}, {'label': 'HINDI', 'confidence': 0.0075231777, 'topleft': {'x': 205, 'y': 179}, 'bottomright': {'x': 271, 'y': 231}}, {'label': 'HINDI', 'confidence': 0.012445415, 'topleft': {'x': 119, 'y': 142}, 'bottomright': {'x': 326, 'y': 260}}, {'label': 'HINDI', 'confidence': 0.0040306323, 'topleft': {'x': 257, 'y': 179}, 'bottomright': {'x': 319, 'y': 231}}, {'label': 'HINDI', 'confidence': 0.0037129072, 'topleft': {'x': 289, 'y': 176}, 'bottomright': {'x': 326, 'y': 228}}, {'label': 'HINDI', 'confidence': 0.0034397559, 'topleft': {'x': 260, 'y': 164}, 'bottomright': {'x': 326, 'y': 243}}, {'label': 'HINDI', 'confidence': 0.0059603737, 'topleft': {'x': 166, 'y': 92}, 'bottomright': {'x': 326, 'y': 308}}, {'label': 'HINDI', 'confidence': 0.004839387, 'topleft': {'x': 0, 'y': 206}, 'bottomright': {'x': 37, 'y': 255}}, {'label': 'HINDI', 'confidence': 0.0036823363, 'topleft': {'x': 0, 'y': 197}, 'bottomright': {'x': 61, 'y': 276}}, {'label': 'HINDI', 'confidence': 0.0029404382, 'topleft': {'x': 8, 'y': 210}, 'bottomright': {'x': 60, 'y': 256}}, {'label': 'HINDI', 'confidence': 0.0049268547, 'topleft': {'x': 31, 'y': 209}, 'bottomright': {'x': 90, 'y': 262}}, {'label': 'HINDI', 'confidence': 0.007822418, 'topleft': {'x': 57, 'y': 210}, 'bottomright': {'x': 116, 'y': 263}}, {'label': 'HINDI', 'confidence': 0.0065817917, 'topleft': {'x': 82, 'y': 209}, 'bottomright': {'x': 142, 'y': 264}}, {'label': 'HINDI', 'confidence': 0.009302267, 'topleft': {'x': 178, 'y': 213}, 'bottomright': {'x': 245, 'y': 261}}, {'label': 'HINDI', 'confidence': 0.0066562793, 'topleft': {'x': 235, 'y': 211}, 'bottomright': {'x': 290, 'y': 261}}, {'label': 'HINDI', 'confidence': 0.004126431, 'topleft': {'x': 260, 'y': 210}, 'bottomright': {'x': 315, 'y': 261}}, {'label': 'HINDI', 'confidence': 0.0039843, 'topleft': {'x': 290, 'y': 209}, 'bottomright': {'x': 326, 'y': 257}}, {'label': 'HINDI', 'confidence': 0.0034597043, 'topleft': {'x': 256, 'y': 200}, 'bottomright': {'x': 326, 'y': 268}}, {'label': 'HINDI', 'confidence': 0.003983804, 'topleft': {'x': 0, 'y': 236}, 'bottomright': {'x': 37, 'y': 289}}, {'label': 'HINDI', 'confidence': 0.001846068, 'topleft': {'x': 7, 'y': 241}, 'bottomright': {'x': 61, 'y': 289}}, {'label': 'HINDI', 'confidence': 0.0073981206, 'topleft': {'x': 61, 'y': 241}, 'bottomright': {'x': 113, 'y': 293}}, {'label': 'HINDI', 'confidence': 0.0067269644, 'topleft': {'x': 21, 'y': 240}, 'bottomright': {'x': 152, 'y': 291}}, {'label': 'HINDI', 'confidence': 0.0064088446, 'topleft': {'x': 85, 'y': 242}, 'bottomright': {'x': 138, 'y': 292}}, {'label': 'HINDI', 'confidence': 0.007961016, 'topleft': {'x': 156, 'y': 244}, 'bottomright': {'x': 217, 'y': 293}}, {'label': 'HINDI', 'confidence': 0.0106802415, 'topleft': {'x': 184, 'y': 241}, 'bottomright': {'x': 239, 'y': 295}}, {'label': 'HINDI', 'confidence': 0.010457112, 'topleft': {'x': 212, 'y': 241}, 'bottomright': {'x': 262, 'y': 295}}, {'label': 'HINDI', 'confidence': 0.0075591584, 'topleft': {'x': 166, 'y': 241}, 'bottomright': {'x': 309, 'y': 290}}, {'label': 'HINDI', 'confidence': 0.0095440755, 'topleft': {'x': 124, 'y': 210}, 'bottomright': {'x': 326, 'y': 313}}, {'label': 'HINDI', 'confidence': 0.005866512, 'topleft': {'x': 236, 'y': 241}, 'bottomright': {'x': 288, 'y': 294}}, {'label': 'HINDI', 'confidence': 0.0038869663, 'topleft': {'x': 291, 'y': 241}, 'bottomright': {'x': 326, 'y': 288}}, {'label': 'HINDI', 'confidence': 0.0038967007, 'topleft': {'x': 255, 'y': 236}, 'bottomright': {'x': 326, 'y': 294}}, {'label': 'HINDI', 'confidence': 0.00598991, 'topleft': {'x': 0, 'y': 266}, 'bottomright': {'x': 36, 'y': 319}}, {'label': 'HINDI', 'confidence': 0.005169251, 'topleft': {'x': 0, 'y': 265}, 'bottomright': {'x': 77, 'y': 330}}, {'label': 'HINDI', 'confidence': 0.0038054995, 'topleft': {'x': 10, 'y': 269}, 'bottomright': {'x': 59, 'y': 320}}, {'label': 'HINDI', 'confidence': 0.006924488, 'topleft': {'x': 60, 'y': 271}, 'bottomright': {'x': 113, 'y': 321}}, {'label': 'HINDI', 'confidence': 0.006137333, 'topleft': {'x': 22, 'y': 268}, 'bottomright': {'x': 149, 'y': 323}}, {'label': 'HINDI', 'confidence': 0.0047810567, 'topleft': {'x': 84, 'y': 272}, 'bottomright': {'x': 139, 'y': 321}}, {'label': 'HINDI', 'confidence': 0.003092472, 'topleft': {'x': 106, 'y': 269}, 'bottomright': {'x': 168, 'y': 324}}, {'label': 'HINDI', 'confidence': 0.00832236, 'topleft': {'x': 132, 'y': 269}, 'bottomright': {'x': 191, 'y': 327}}, {'label': 'HINDI', 'confidence': 0.011611019, 'topleft': {'x': 72, 'y': 281}, 'bottomright': {'x': 250, 'y': 313}}, {'label': 'HINDI', 'confidence': 0.010644152, 'topleft': {'x': 36, 'y': 222}, 'bottomright': {'x': 292, 'y': 366}}, {'label': 'HINDI', 'confidence': 0.005893247, 'topleft': {'x': 182, 'y': 268}, 'bottomright': {'x': 242, 'y': 327}}, {'label': 'HINDI', 'confidence': 0.0070351707, 'topleft': {'x': 210, 'y': 270}, 'bottomright': {'x': 264, 'y': 324}}, {'label': 'HINDI', 'confidence': 0.007191844, 'topleft': {'x': 235, 'y': 271}, 'bottomright': {'x': 289, 'y': 321}}, {'label': 'HINDI', 'confidence': 0.0062334063, 'topleft': {'x': 180, 'y': 270}, 'bottomright': {'x': 326, 'y': 319}}, {'label': 'HINDI', 'confidence': 0.007038336, 'topleft': {'x': 262, 'y': 271}, 'bottomright': {'x': 313, 'y': 321}}, {'label': 'HINDI', 'confidence': 0.0064034634, 'topleft': {'x': 209, 'y': 205}, 'bottomright': {'x': 326, 'y': 383}}, {'label': 'HINDI', 'confidence': 0.0050819945, 'topleft': {'x': 290, 'y': 269}, 'bottomright': {'x': 326, 'y': 318}}, {'label': 'HINDI', 'confidence': 0.006254686, 'topleft': {'x': 0, 'y': 298}, 'bottomright': {'x': 35, 'y': 350}}, {'label': 'HINDI', 'confidence': 0.004833716, 'topleft': {'x': 7, 'y': 299}, 'bottomright': {'x': 62, 'y': 352}}, {'label': 'HINDI', 'confidence': 0.0077135577, 'topleft': {'x': 55, 'y': 303}, 'bottomright': {'x': 117, 'y': 350}}, {'label': 'HINDI', 'confidence': 0.0075179636, 'topleft': {'x': 0, 'y': 235}, 'bottomright': {'x': 206, 'y': 404}}, {'label': 'HINDI', 'confidence': 0.0010612872, 'topleft': {'x': 134, 'y': 298}, 'bottomright': {'x': 192, 'y': 356}}, {'label': 'HINDI', 'confidence': 0.004469063, 'topleft': {'x': 231, 'y': 304}, 'bottomright': {'x': 293, 'y': 349}}, {'label': 'HINDI', 'confidence': 0.0059019723, 'topleft': {'x': 259, 'y': 300}, 'bottomright': {'x': 316, 'y': 353}}, {'label': 'HINDI', 'confidence': 0.0064523406, 'topleft': {'x': 285, 'y': 296}, 'bottomright': {'x': 326, 'y': 352}}, {'label': 'HINDI', 'confidence': 0.0062268316, 'topleft': {'x': 242, 'y': 294}, 'bottomright': {'x': 326, 'y': 359}}, {'label': 'HINDI', 'confidence': 0.009115132, 'topleft': {'x': 4, 'y': 313}, 'bottomright': {'x': 62, 'y': 400}}, {'label': 'HINDI', 'confidence': 0.0066973954, 'topleft': {'x': 26, 'y': 314}, 'bottomright': {'x': 95, 'y': 401}}, {'label': 'HINDI', 'confidence': 0.011285168, 'topleft': {'x': 53, 'y': 319}, 'bottomright': {'x': 118, 'y': 392}}, {'label': 'HINDI', 'confidence': 0.005140662, 'topleft': {'x': 2, 'y': 320}, 'bottomright': {'x': 174, 'y': 387}}, {'label': 'HINDI', 'confidence': 0.0020803746, 'topleft': {'x': 135, 'y': 325}, 'bottomright': {'x': 193, 'y': 391}}, {'label': 'HINDI', 'confidence': 0.023692267, 'topleft': {'x': 0, 'y': 265}, 'bottomright': {'x': 326, 'y': 404}}, {'label': 'HINDI', 'confidence': 0.77416795, 'topleft': {'x': 70, 'y': 308}, 'bottomright': {'x': 261, 'y': 403}}, {'label': 'HINDI', 'confidence': 0.011417693, 'topleft': {'x': 149, 'y': 339}, 'bottomright': {'x': 270, 'y': 375}}, {'label': 'HINDI', 'confidence': 0.0074865986, 'topleft': {'x': 203, 'y': 322}, 'bottomright': {'x': 268, 'y': 389}}, {'label': 'HINDI', 'confidence': 0.0063744644, 'topleft': {'x': 231, 'y': 320}, 'bottomright': {'x': 293, 'y': 395}}, {'label': 'HINDI', 'confidence': 0.017171051, 'topleft': {'x': 187, 'y': 331}, 'bottomright': {'x': 326, 'y': 388}}, {'label': 'HINDI', 'confidence': 0.013081128, 'topleft': {'x': 282, 'y': 316}, 'bottomright': {'x': 326, 'y': 393}}, {'label': 'HINDI', 'confidence': 0.013202629, 'topleft': {'x': 0, 'y': 354}, 'bottomright': {'x': 29, 'y': 404}}, {'label': 'HINDI', 'confidence': 0.01573383, 'topleft': {'x': 0, 'y': 362}, 'bottomright': {'x': 65, 'y': 404}}, {'label': 'HINDI', 'confidence': 0.01104119, 'topleft': {'x': 0, 'y': 231}, 'bottomright': {'x': 99, 'y': 404}}, {'label': 'HINDI', 'confidence': 0.017188618, 'topleft': {'x': 0, 'y': 340}, 'bottomright': {'x': 126, 'y': 404}}, {'label': 'HINDI', 'confidence': 0.0102587985, 'topleft': {'x': 10, 'y': 355}, 'bottomright': {'x': 55, 'y': 404}}, {'label': 'HINDI', 'confidence': 0.009095152, 'topleft': {'x': 37, 'y': 355}, 'bottomright': {'x': 80, 'y': 404}}, {'label': 'HINDI', 'confidence': 0.0075827832, 'topleft': {'x': 10, 'y': 367}, 'bottomright': {'x': 112, 'y': 404}}, {'label': 'HINDI', 'confidence': 0.009756731, 'topleft': {'x': 63, 'y': 358}, 'bottomright': {'x': 105, 'y': 404}}, {'label': 'HINDI', 'confidence': 0.005527862, 'topleft': {'x': 87, 'y': 356}, 'bottomright': {'x': 132, 'y': 404}}, {'label': 'HINDI', 'confidence': 0.002031651, 'topleft': {'x': 17, 'y': 347}, 'bottomright': {'x': 218, 'y': 404}}, {'label': 'HINDI', 'confidence': 0.0027242324, 'topleft': {'x': 111, 'y': 357}, 'bottomright': {'x': 162, 'y': 404}}, {'label': 'HINDI', 'confidence': 0.004650294, 'topleft': {'x': 142, 'y': 358}, 'bottomright': {'x': 187, 'y': 404}}, {'label': 'HINDI', 'confidence': 0.00929801, 'topleft': {'x': 104, 'y': 375}, 'bottomright': {'x': 219, 'y': 396}}, {'label': 'HINDI', 'confidence': 0.0015175338, 'topleft': {'x': 157, 'y': 372}, 'bottomright': {'x': 261, 'y': 396}}, {'label': 'HINDI', 'confidence': 0.0072593954, 'topleft': {'x': 213, 'y': 358}, 'bottomright': {'x': 257, 'y': 404}}, {'label': 'HINDI', 'confidence': 0.012483803, 'topleft': {'x': 240, 'y': 355}, 'bottomright': {'x': 281, 'y': 404}}, {'label': 'HINDI', 'confidence': 0.019155426, 'topleft': {'x': 216, 'y': 363}, 'bottomright': {'x': 309, 'y': 404}}, {'label': 'HINDI', 'confidence': 0.015600291, 'topleft': {'x': 157, 'y': 339}, 'bottomright': {'x': 326, 'y': 404}}, {'label': 'HINDI', 'confidence': 0.010395189, 'topleft': {'x': 290, 'y': 350}, 'bottomright': {'x': 326, 'y': 404}}, {'label': 'HINDI', 'confidence': 0.011208033, 'topleft': {'x': 257, 'y': 362}, 'bottomright': {'x': 326, 'y': 404}}, {'label': 'HINDI', 'confidence': 0.010338417, 'topleft': {'x': 170, 'y': 272}, 'bottomright': {'x': 326, 'y': 404}}]
In [26]:
fig, ax = plt.subplots(figsize=(15, 15))
ax.imshow(original_img)
Out[26]:
<matplotlib.image.AxesImage at 0x7ff0ddc3c198>

In [0]:
def boxing(original_img , predictions):
    newImage = np.copy(original_img)

    for result in predictions:
        top_x = result['topleft']['x']
        top_y = result['topleft']['y']

        btm_x = result['bottomright']['x']
        btm_y = result['bottomright']['y']

        confidence = result['confidence']
        label = result['label'] + " " + str(round(confidence, 3))
        
        if confidence > 0.1:
            newImage = cv2.rectangle(newImage, (top_x, top_y), (btm_x, btm_y), (255,0,0), 3)
            newImage = cv2.putText(newImage, label, (top_x, top_y-5), cv2.FONT_HERSHEY_COMPLEX_SMALL , 0.8, (0, 230, 0), 1, cv2.LINE_AA)
        
    return newImage
In [28]:
fig, ax = plt.subplots(figsize=(20, 10))
ax.imshow(boxing(original_img, results))
Out[28]:
<matplotlib.image.AxesImage at 0x7ff0d007a080>

In [0]:

In [29]:
#4example
import pprint as pp

original_img = cv2.imread("/content/gdrive/My Drive/YOLOV2/example3.jpg")
original_img = cv2.cvtColor(original_img, cv2.COLOR_BGR2RGB)
results = tfnet2.return_predict(original_img)
print(results)
[{'label': 'HINDI', 'confidence': 0.013713707, 'topleft': {'x': 0, 'y': 0}, 'bottomright': {'x': 116, 'y': 59}}, {'label': 'HINDI', 'confidence': 0.011524265, 'topleft': {'x': 0, 'y': 0}, 'bottomright': {'x': 216, 'y': 252}}, {'label': 'HINDI', 'confidence': 0.011225481, 'topleft': {'x': 90, 'y': 0}, 'bottomright': {'x': 259, 'y': 53}}, {'label': 'HINDI', 'confidence': 0.00780477, 'topleft': {'x': 0, 'y': 0}, 'bottomright': {'x': 367, 'y': 63}}, {'label': 'HINDI', 'confidence': 0.008559609, 'topleft': {'x': 0, 'y': 0}, 'bottomright': {'x': 469, 'y': 245}}, {'label': 'HINDI', 'confidence': 0.006362169, 'topleft': {'x': 180, 'y': 0}, 'bottomright': {'x': 366, 'y': 52}}, {'label': 'HINDI', 'confidence': 0.007091948, 'topleft': {'x': 312, 'y': 0}, 'bottomright': {'x': 414, 'y': 57}}, {'label': 'HINDI', 'confidence': 0.013941695, 'topleft': {'x': 534, 'y': 0}, 'bottomright': {'x': 639, 'y': 67}}, {'label': 'HINDI', 'confidence': 0.014226711, 'topleft': {'x': 389, 'y': 0}, 'bottomright': {'x': 639, 'y': 255}}, {'label': 'HINDI', 'confidence': 0.007655145, 'topleft': {'x': 0, 'y': 13}, 'bottomright': {'x': 105, 'y': 97}}, {'label': 'HINDI', 'confidence': 0.009074664, 'topleft': {'x': 0, 'y': 0}, 'bottomright': {'x': 250, 'y': 113}}, {'label': 'HINDI', 'confidence': 0.0044918014, 'topleft': {'x': 34, 'y': 22}, 'bottomright': {'x': 212, 'y': 82}}, {'label': 'HINDI', 'confidence': 0.005062445, 'topleft': {'x': 168, 'y': 0}, 'bottomright': {'x': 266, 'y': 99}}, {'label': 'HINDI', 'confidence': 0.005225311, 'topleft': {'x': 221, 'y': 1}, 'bottomright': {'x': 312, 'y': 100}}, {'label': 'HINDI', 'confidence': 0.005129476, 'topleft': {'x': 272, 'y': 0}, 'bottomright': {'x': 358, 'y': 102}}, {'label': 'HINDI', 'confidence': 0.006372254, 'topleft': {'x': 365, 'y': 0}, 'bottomright': {'x': 462, 'y': 100}}, {'label': 'HINDI', 'confidence': 0.007167287, 'topleft': {'x': 412, 'y': 5}, 'bottomright': {'x': 513, 'y': 96}}, {'label': 'HINDI', 'confidence': 0.005425788, 'topleft': {'x': 461, 'y': 3}, 'bottomright': {'x': 562, 'y': 97}}, {'label': 'HINDI', 'confidence': 0.003784005, 'topleft': {'x': 418, 'y': 23}, 'bottomright': {'x': 618, 'y': 85}}, {'label': 'HINDI', 'confidence': 0.0044770916, 'topleft': {'x': 516, 'y': 2}, 'bottomright': {'x': 606, 'y': 100}}, {'label': 'HINDI', 'confidence': 0.0098204855, 'topleft': {'x': 398, 'y': 1}, 'bottomright': {'x': 639, 'y': 110}}, {'label': 'HINDI', 'confidence': 0.006961692, 'topleft': {'x': 0, 'y': 48}, 'bottomright': {'x': 67, 'y': 129}}, {'label': 'HINDI', 'confidence': 0.006210559, 'topleft': {'x': 0, 'y': 47}, 'bottomright': {'x': 125, 'y': 141}}, {'label': 'HINDI', 'confidence': 0.007822833, 'topleft': {'x': 28, 'y': 47}, 'bottomright': {'x': 111, 'y': 131}}, {'label': 'HINDI', 'confidence': 0.004534829, 'topleft': {'x': 69, 'y': 44}, 'bottomright': {'x': 170, 'y': 136}}, {'label': 'HINDI', 'confidence': 0.0030699288, 'topleft': {'x': 9, 'y': 59}, 'bottomright': {'x': 235, 'y': 126}}, {'label': 'HINDI', 'confidence': 0.00483275, 'topleft': {'x': 118, 'y': 42}, 'bottomright': {'x': 219, 'y': 137}}, {'label': 'HINDI', 'confidence': 0.00726131, 'topleft': {'x': 165, 'y': 43}, 'bottomright': {'x': 270, 'y': 137}}, {'label': 'HINDI', 'confidence': 0.0054873307, 'topleft': {'x': 208, 'y': 45}, 'bottomright': {'x': 325, 'y': 138}}, {'label': 'HINDI', 'confidence': 0.0066819293, 'topleft': {'x': 307, 'y': 43}, 'bottomright': {'x': 423, 'y': 139}}, {'label': 'HINDI', 'confidence': 0.009192873, 'topleft': {'x': 361, 'y': 45}, 'bottomright': {'x': 469, 'y': 135}}, {'label': 'HINDI', 'confidence': 0.011275027, 'topleft': {'x': 412, 'y': 50}, 'bottomright': {'x': 516, 'y': 130}}, {'label': 'HINDI', 'confidence': 0.006833495, 'topleft': {'x': 462, 'y': 51}, 'bottomright': {'x': 563, 'y': 129}}, {'label': 'HINDI', 'confidence': 0.0048874137, 'topleft': {'x': 515, 'y': 52}, 'bottomright': {'x': 608, 'y': 129}}, {'label': 'HINDI', 'confidence': 0.008529019, 'topleft': {'x': 569, 'y': 44}, 'bottomright': {'x': 639, 'y': 131}}, {'label': 'HINDI', 'confidence': 0.0066250325, 'topleft': {'x': 514, 'y': 45}, 'bottomright': {'x': 639, 'y': 138}}, {'label': 'HINDI', 'confidence': 0.0050010816, 'topleft': {'x': 0, 'y': 89}, 'bottomright': {'x': 74, 'y': 166}}, {'label': 'HINDI', 'confidence': 0.0050580013, 'topleft': {'x': 23, 'y': 86}, 'bottomright': {'x': 116, 'y': 173}}, {'label': 'HINDI', 'confidence': 0.0062761717, 'topleft': {'x': 0, 'y': 25}, 'bottomright': {'x': 343, 'y': 232}}, {'label': 'HINDI', 'confidence': 0.002398129, 'topleft': {'x': 0, 'y': 90}, 'bottomright': {'x': 246, 'y': 172}}, {'label': 'HINDI', 'confidence': 0.0052022883, 'topleft': {'x': 167, 'y': 79}, 'bottomright': {'x': 271, 'y': 186}}, {'label': 'HINDI', 'confidence': 0.0037130923, 'topleft': {'x': 157, 'y': 92}, 'bottomright': {'x': 471, 'y': 175}}, {'label': 'HINDI', 'confidence': 0.0057318932, 'topleft': {'x': 356, 'y': 83}, 'bottomright': {'x': 474, 'y': 183}}, {'label': 'HINDI', 'confidence': 0.0083039785, 'topleft': {'x': 413, 'y': 88}, 'bottomright': {'x': 515, 'y': 176}}, {'label': 'HINDI', 'confidence': 0.0067869322, 'topleft': {'x': 468, 'y': 88}, 'bottomright': {'x': 560, 'y': 173}}, {'label': 'HINDI', 'confidence': 0.0032782897, 'topleft': {'x': 385, 'y': 85}, 'bottomright': {'x': 637, 'y': 174}}, {'label': 'HINDI', 'confidence': 0.004205785, 'topleft': {'x': 516, 'y': 91}, 'bottomright': {'x': 609, 'y': 171}}, {'label': 'HINDI', 'confidence': 0.006191335, 'topleft': {'x': 574, 'y': 85}, 'bottomright': {'x': 639, 'y': 169}}, {'label': 'HINDI', 'confidence': 0.004490098, 'topleft': {'x': 0, 'y': 0}, 'bottomright': {'x': 153, 'y': 348}}, {'label': 'HINDI', 'confidence': 0.005317716, 'topleft': {'x': 23, 'y': 130}, 'bottomright': {'x': 117, 'y': 205}}, {'label': 'HINDI', 'confidence': 0.0047052763, 'topleft': {'x': 116, 'y': 121}, 'bottomright': {'x': 227, 'y': 217}}, {'label': 'HINDI', 'confidence': 0.0034489331, 'topleft': {'x': 204, 'y': 115}, 'bottomright': {'x': 338, 'y': 229}}, {'label': 'HINDI', 'confidence': 0.011698433, 'topleft': {'x': 253, 'y': 125}, 'bottomright': {'x': 388, 'y': 219}}, {'label': 'HINDI', 'confidence': 0.056416173, 'topleft': {'x': 182, 'y': 140}, 'bottomright': {'x': 454, 'y': 203}}, {'label': 'HINDI', 'confidence': 0.028552106, 'topleft': {'x': 112, 'y': 88}, 'bottomright': {'x': 529, 'y': 247}}, {'label': 'HINDI', 'confidence': 0.005927216, 'topleft': {'x': 351, 'y': 129}, 'bottomright': {'x': 478, 'y': 212}}, {'label': 'HINDI', 'confidence': 0.0066149416, 'topleft': {'x': 416, 'y': 130}, 'bottomright': {'x': 515, 'y': 208}}, {'label': 'HINDI', 'confidence': 0.0066148383, 'topleft': {'x': 471, 'y': 131}, 'bottomright': {'x': 558, 'y': 205}}, {'label': 'HINDI', 'confidence': 0.004316294, 'topleft': {'x': 393, 'y': 121}, 'bottomright': {'x': 628, 'y': 210}}, {'label': 'HINDI', 'confidence': 0.0046038083, 'topleft': {'x': 515, 'y': 133}, 'bottomright': {'x': 612, 'y': 204}}, {'label': 'HINDI', 'confidence': 0.005612346, 'topleft': {'x': 575, 'y': 126}, 'bottomright': {'x': 639, 'y': 205}}, {'label': 'HINDI', 'confidence': 0.0052334345, 'topleft': {'x': 512, 'y': 116}, 'bottomright': {'x': 639, 'y': 216}}, {'label': 'HINDI', 'confidence': 0.004376226, 'topleft': {'x': 0, 'y': 156}, 'bottomright': {'x': 116, 'y': 254}}, {'label': 'HINDI', 'confidence': 0.0038108558, 'topleft': {'x': 18, 'y': 167}, 'bottomright': {'x': 120, 'y': 237}}, {'label': 'HINDI', 'confidence': 0.0039433967, 'topleft': {'x': 58, 'y': 166}, 'bottomright': {'x': 185, 'y': 242}}, {'label': 'HINDI', 'confidence': 0.0063036894, 'topleft': {'x': 0, 'y': 102}, 'bottomright': {'x': 394, 'y': 299}}, {'label': 'HINDI', 'confidence': 0.0038904147, 'topleft': {'x': 158, 'y': 154}, 'bottomright': {'x': 285, 'y': 253}}, {'label': 'HINDI', 'confidence': 0.024792193, 'topleft': {'x': 209, 'y': 174}, 'bottomright': {'x': 425, 'y': 228}}, {'label': 'HINDI', 'confidence': 0.008979601, 'topleft': {'x': 244, 'y': 115}, 'bottomright': {'x': 639, 'y': 288}}, {'label': 'HINDI', 'confidence': 0.0052113454, 'topleft': {'x': 466, 'y': 168}, 'bottomright': {'x': 564, 'y': 239}}, {'label': 'HINDI', 'confidence': 0.0051548574, 'topleft': {'x': 395, 'y': 163}, 'bottomright': {'x': 628, 'y': 245}}, {'label': 'HINDI', 'confidence': 0.003952739, 'topleft': {'x': 510, 'y': 170}, 'bottomright': {'x': 617, 'y': 239}}, {'label': 'HINDI', 'confidence': 0.0051293103, 'topleft': {'x': 571, 'y': 165}, 'bottomright': {'x': 639, 'y': 239}}, {'label': 'HINDI', 'confidence': 0.0047331695, 'topleft': {'x': 0, 'y': 206}, 'bottomright': {'x': 80, 'y': 268}}, {'label': 'HINDI', 'confidence': 0.0041027376, 'topleft': {'x': 107, 'y': 209}, 'bottomright': {'x': 234, 'y': 272}}, {'label': 'HINDI', 'confidence': 0.012221158, 'topleft': {'x': 265, 'y': 209}, 'bottomright': {'x': 374, 'y': 272}}, {'label': 'HINDI', 'confidence': 0.003497253, 'topleft': {'x': 354, 'y': 204}, 'bottomright': {'x': 479, 'y': 273}}, {'label': 'HINDI', 'confidence': 0.0037888829, 'topleft': {'x': 395, 'y': 210}, 'bottomright': {'x': 628, 'y': 275}}, {'label': 'HINDI', 'confidence': 0.003793178, 'topleft': {'x': 566, 'y': 205}, 'bottomright': {'x': 639, 'y': 272}}, {'label': 'HINDI', 'confidence': 0.0043822033, 'topleft': {'x': 514, 'y': 197}, 'bottomright': {'x': 639, 'y': 284}}, {'label': 'HINDI', 'confidence': 0.0067720343, 'topleft': {'x': 399, 'y': 157}, 'bottomright': {'x': 639, 'y': 319}}, {'label': 'HINDI', 'confidence': 0.0043121814, 'topleft': {'x': 0, 'y': 245}, 'bottomright': {'x': 81, 'y': 303}}, {'label': 'HINDI', 'confidence': 0.004711323, 'topleft': {'x': 160, 'y': 246}, 'bottomright': {'x': 280, 'y': 310}}, {'label': 'HINDI', 'confidence': 0.0065203244, 'topleft': {'x': 267, 'y': 250}, 'bottomright': {'x': 373, 'y': 304}}, {'label': 'HINDI', 'confidence': 0.010052592, 'topleft': {'x': 164, 'y': 191}, 'bottomright': {'x': 474, 'y': 366}}, {'label': 'HINDI', 'confidence': 0.0052122152, 'topleft': {'x': 312, 'y': 248}, 'bottomright': {'x': 424, 'y': 306}}, {'label': 'HINDI', 'confidence': 0.003989329, 'topleft': {'x': 361, 'y': 246}, 'bottomright': {'x': 475, 'y': 307}}, {'label': 'HINDI', 'confidence': 0.0028604008, 'topleft': {'x': 413, 'y': 249}, 'bottomright': {'x': 523, 'y': 307}}, {'label': 'HINDI', 'confidence': 0.0028320663, 'topleft': {'x': 457, 'y': 246}, 'bottomright': {'x': 574, 'y': 310}}, {'label': 'HINDI', 'confidence': 0.0034398476, 'topleft': {'x': 507, 'y': 245}, 'bottomright': {'x': 639, 'y': 312}}, {'label': 'HINDI', 'confidence': 0.003314473, 'topleft': {'x': 0, 'y': 285}, 'bottomright': {'x': 81, 'y': 340}}, {'label': 'HINDI', 'confidence': 0.0034966646, 'topleft': {'x': 0, 'y': 277}, 'bottomright': {'x': 134, 'y': 356}}, {'label': 'HINDI', 'confidence': 0.005774368, 'topleft': {'x': 162, 'y': 285}, 'bottomright': {'x': 276, 'y': 349}}, {'label': 'HINDI', 'confidence': 0.0032222713, 'topleft': {'x': 213, 'y': 286}, 'bottomright': {'x': 322, 'y': 348}}, {'label': 'HINDI', 'confidence': 0.0026078827, 'topleft': {'x': 264, 'y': 287}, 'bottomright': {'x': 372, 'y': 346}}, {'label': 'HINDI', 'confidence': 0.0028754578, 'topleft': {'x': 310, 'y': 284}, 'bottomright': {'x': 425, 'y': 348}}, {'label': 'HINDI', 'confidence': 0.003370408, 'topleft': {'x': 459, 'y': 281}, 'bottomright': {'x': 573, 'y': 351}}, {'label': 'HINDI', 'confidence': 0.007264896, 'topleft': {'x': 370, 'y': 292}, 'bottomright': {'x': 639, 'y': 339}}, {'label': 'HINDI', 'confidence': 0.0041158334, 'topleft': {'x': 502, 'y': 287}, 'bottomright': {'x': 639, 'y': 344}}, {'label': 'HINDI', 'confidence': 0.005604501, 'topleft': {'x': 0, 'y': 317}, 'bottomright': {'x': 77, 'y': 379}}, {'label': 'HINDI', 'confidence': 0.005556516, 'topleft': {'x': 0, 'y': 319}, 'bottomright': {'x': 158, 'y': 387}}, {'label': 'HINDI', 'confidence': 0.0017282425, 'topleft': {'x': 12, 'y': 323}, 'bottomright': {'x': 124, 'y': 376}}, {'label': 'HINDI', 'confidence': 0.0023376334, 'topleft': {'x': 64, 'y': 320}, 'bottomright': {'x': 174, 'y': 382}}, {'label': 'HINDI', 'confidence': 0.0032153944, 'topleft': {'x': 110, 'y': 318}, 'bottomright': {'x': 226, 'y': 383}}, {'label': 'HINDI', 'confidence': 0.0032404358, 'topleft': {'x': 163, 'y': 321}, 'bottomright': {'x': 272, 'y': 380}}, {'label': 'HINDI', 'confidence': 0.0033103593, 'topleft': {'x': 215, 'y': 323}, 'bottomright': {'x': 318, 'y': 378}}, {'label': 'HINDI', 'confidence': 0.0059405537, 'topleft': {'x': 117, 'y': 325}, 'bottomright': {'x': 414, 'y': 379}}, {'label': 'HINDI', 'confidence': 0.0029796257, 'topleft': {'x': 264, 'y': 321}, 'bottomright': {'x': 369, 'y': 379}}, {'label': 'HINDI', 'confidence': 0.0035221127, 'topleft': {'x': 309, 'y': 321}, 'bottomright': {'x': 421, 'y': 379}}, {'label': 'HINDI', 'confidence': 0.0024399105, 'topleft': {'x': 356, 'y': 322}, 'bottomright': {'x': 474, 'y': 378}}, {'label': 'HINDI', 'confidence': 0.002466414, 'topleft': {'x': 408, 'y': 319}, 'bottomright': {'x': 523, 'y': 377}}, {'label': 'HINDI', 'confidence': 0.003940212, 'topleft': {'x': 455, 'y': 316}, 'bottomright': {'x': 572, 'y': 380}}, {'label': 'HINDI', 'confidence': 0.004580223, 'topleft': {'x': 567, 'y': 316}, 'bottomright': {'x': 639, 'y': 380}}, {'label': 'HINDI', 'confidence': 0.005813791, 'topleft': {'x': 494, 'y': 324}, 'bottomright': {'x': 639, 'y': 381}}, {'label': 'HINDI', 'confidence': 0.006089306, 'topleft': {'x': 0, 'y': 352}, 'bottomright': {'x': 71, 'y': 415}}, {'label': 'HINDI', 'confidence': 0.0072311135, 'topleft': {'x': 0, 'y': 345}, 'bottomright': {'x': 180, 'y': 429}}, {'label': 'HINDI', 'confidence': 0.0034405144, 'topleft': {'x': 15, 'y': 352}, 'bottomright': {'x': 121, 'y': 415}}, {'label': 'HINDI', 'confidence': 0.0038229472, 'topleft': {'x': 107, 'y': 352}, 'bottomright': {'x': 225, 'y': 417}}, {'label': 'HINDI', 'confidence': 0.0039427844, 'topleft': {'x': 158, 'y': 353}, 'bottomright': {'x': 273, 'y': 416}}, {'label': 'HINDI', 'confidence': 0.005770726, 'topleft': {'x': 213, 'y': 353}, 'bottomright': {'x': 319, 'y': 417}}, {'label': 'HINDI', 'confidence': 0.012145094, 'topleft': {'x': 101, 'y': 346}, 'bottomright': {'x': 434, 'y': 426}}, {'label': 'HINDI', 'confidence': 0.012117081, 'topleft': {'x': 94, 'y': 292}, 'bottomright': {'x': 460, 'y': 479}}, {'label': 'HINDI', 'confidence': 0.0047516404, 'topleft': {'x': 260, 'y': 356}, 'bottomright': {'x': 370, 'y': 415}}, {'label': 'HINDI', 'confidence': 0.005214493, 'topleft': {'x': 312, 'y': 351}, 'bottomright': {'x': 415, 'y': 420}}, {'label': 'HINDI', 'confidence': 0.0035997492, 'topleft': {'x': 357, 'y': 353}, 'bottomright': {'x': 470, 'y': 419}}, {'label': 'HINDI', 'confidence': 0.0029740497, 'topleft': {'x': 405, 'y': 352}, 'bottomright': {'x': 521, 'y': 419}}, {'label': 'HINDI', 'confidence': 0.005550043, 'topleft': {'x': 559, 'y': 346}, 'bottomright': {'x': 639, 'y': 421}}, {'label': 'HINDI', 'confidence': 0.006469767, 'topleft': {'x': 484, 'y': 349}, 'bottomright': {'x': 639, 'y': 425}}, {'label': 'HINDI', 'confidence': 0.008604489, 'topleft': {'x': 0, 'y': 370}, 'bottomright': {'x': 75, 'y': 473}}, {'label': 'HINDI', 'confidence': 0.0057109897, 'topleft': {'x': 10, 'y': 367}, 'bottomright': {'x': 125, 'y': 477}}, {'label': 'HINDI', 'confidence': 0.0057263845, 'topleft': {'x': 56, 'y': 365}, 'bottomright': {'x': 179, 'y': 479}}, {'label': 'HINDI', 'confidence': 0.007275358, 'topleft': {'x': 111, 'y': 370}, 'bottomright': {'x': 222, 'y': 476}}, {'label': 'HINDI', 'confidence': 0.0065389704, 'topleft': {'x': 161, 'y': 373}, 'bottomright': {'x': 270, 'y': 472}}, {'label': 'HINDI', 'confidence': 0.007158358, 'topleft': {'x': 212, 'y': 373}, 'bottomright': {'x': 317, 'y': 472}}, {'label': 'HINDI', 'confidence': 0.008029366, 'topleft': {'x': 261, 'y': 370}, 'bottomright': {'x': 368, 'y': 477}}, {'label': 'HINDI', 'confidence': 0.009297931, 'topleft': {'x': 314, 'y': 371}, 'bottomright': {'x': 413, 'y': 476}}, {'label': 'HINDI', 'confidence': 0.006843129, 'topleft': {'x': 359, 'y': 370}, 'bottomright': {'x': 468, 'y': 477}}, {'label': 'HINDI', 'confidence': 0.0062824497, 'topleft': {'x': 412, 'y': 367}, 'bottomright': {'x': 515, 'y': 479}}, {'label': 'HINDI', 'confidence': 0.006254244, 'topleft': {'x': 460, 'y': 362}, 'bottomright': {'x': 565, 'y': 479}}, {'label': 'HINDI', 'confidence': 0.012165304, 'topleft': {'x': 556, 'y': 370}, 'bottomright': {'x': 639, 'y': 470}}, {'label': 'HINDI', 'confidence': 0.011773021, 'topleft': {'x': 0, 'y': 419}, 'bottomright': {'x': 58, 'y': 479}}, {'label': 'HINDI', 'confidence': 0.013480407, 'topleft': {'x': 0, 'y': 430}, 'bottomright': {'x': 119, 'y': 479}}, {'label': 'HINDI', 'confidence': 0.01861451, 'topleft': {'x': 0, 'y': 405}, 'bottomright': {'x': 239, 'y': 479}}, {'label': 'HINDI', 'confidence': 0.012360805, 'topleft': {'x': 0, 'y': 293}, 'bottomright': {'x': 307, 'y': 479}}, {'label': 'HINDI', 'confidence': 0.0110176485, 'topleft': {'x': 24, 'y': 419}, 'bottomright': {'x': 105, 'y': 479}}, {'label': 'HINDI', 'confidence': 0.010571057, 'topleft': {'x': 74, 'y': 416}, 'bottomright': {'x': 153, 'y': 479}}, {'label': 'HINDI', 'confidence': 0.010243418, 'topleft': {'x': 126, 'y': 418}, 'bottomright': {'x': 201, 'y': 479}}, {'label': 'HINDI', 'confidence': 0.011573603, 'topleft': {'x': 76, 'y': 436}, 'bottomright': {'x': 262, 'y': 479}}, {'label': 'HINDI', 'confidence': 0.008659769, 'topleft': {'x': 173, 'y': 419}, 'bottomright': {'x': 253, 'y': 479}}, {'label': 'HINDI', 'confidence': 0.008781043, 'topleft': {'x': 221, 'y': 417}, 'bottomright': {'x': 303, 'y': 479}}, {'label': 'HINDI', 'confidence': 0.009395577, 'topleft': {'x': 175, 'y': 434}, 'bottomright': {'x': 359, 'y': 479}}, {'label': 'HINDI', 'confidence': 0.00882777, 'topleft': {'x': 269, 'y': 417}, 'bottomright': {'x': 354, 'y': 479}}, {'label': 'HINDI', 'confidence': 0.009158859, 'topleft': {'x': 369, 'y': 419}, 'bottomright': {'x': 451, 'y': 479}}, {'label': 'HINDI', 'confidence': 0.009248764, 'topleft': {'x': 419, 'y': 418}, 'bottomright': {'x': 499, 'y': 479}}, {'label': 'HINDI', 'confidence': 0.011005036, 'topleft': {'x': 376, 'y': 434}, 'bottomright': {'x': 554, 'y': 479}}, {'label': 'HINDI', 'confidence': 0.008666862, 'topleft': {'x': 469, 'y': 417}, 'bottomright': {'x': 548, 'y': 479}}, {'label': 'HINDI', 'confidence': 0.008230199, 'topleft': {'x': 517, 'y': 415}, 'bottomright': {'x': 600, 'y': 479}}, {'label': 'HINDI', 'confidence': 0.010926588, 'topleft': {'x': 570, 'y': 415}, 'bottomright': {'x': 639, 'y': 479}}, {'label': 'HINDI', 'confidence': 0.010614711, 'topleft': {'x': 510, 'y': 429}, 'bottomright': {'x': 639, 'y': 479}}, {'label': 'HINDI', 'confidence': 0.015422669, 'topleft': {'x': 455, 'y': 403}, 'bottomright': {'x': 639, 'y': 479}}, {'label': 'HINDI', 'confidence': 0.010914691, 'topleft': {'x': 310, 'y': 317}, 'bottomright': {'x': 639, 'y': 479}}]
In [30]:
fig, ax = plt.subplots(figsize=(15, 15))
ax.imshow(original_img)
Out[30]:
<matplotlib.image.AxesImage at 0x7ff0d007a4a8>

In [0]:
def boxing(original_img , predictions):
    newImage = np.copy(original_img)

    for result in predictions:
        top_x = result['topleft']['x']
        top_y = result['topleft']['y']

        btm_x = result['bottomright']['x']
        btm_y = result['bottomright']['y']

        confidence = result['confidence']
        label = result['label'] + " " + str(round(confidence, 3))
        
        if confidence > 0.05:
            newImage = cv2.rectangle(newImage, (top_x, top_y), (btm_x, btm_y), (255,0,0), 3)
            newImage = cv2.putText(newImage, label, (top_x, top_y-5), cv2.FONT_HERSHEY_COMPLEX_SMALL , 0.8, (0, 230, 0), 1, cv2.LINE_AA)
        
    return newImage
In [32]:
fig, ax = plt.subplots(figsize=(20, 10))
ax.imshow(boxing(original_img, results))
Out[32]:
<matplotlib.image.AxesImage at 0x7ff0bc752c50>

In [0]:
#Inference on video
# This code also can be used with webcam

cap = cv2.VideoCapture('/content/gdrive/My Drive/YOLOV2/test.mp4')
width = cap.get(cv2.CAP_PROP_FRAME_WIDTH)   
height = cap.get(cv2.CAP_PROP_FRAME_HEIGHT) 

fourcc = cv2.VideoWriter_fourcc(*'DIVX')
out = cv2.VideoWriter('/content/gdrive/My Drive/YOLOV2/output_test.mp4',fourcc, 20.0, (int(width), int(height)))

while(True):
    # Capture frame-by-frame
    ret, frame = cap.read()
    
    if ret == True:
        frame = np.asarray(frame)      
        results = tfnet2.return_predict(frame)
        
        new_frame = boxing(frame, results)

        # Display the resulting frame
        out.write(new_frame)
        #cv2.imshow('frame', new_frame)
        if cv2.waitKey(1) & 0xFF == ord('q'):
            break
    else:
        break
        
# When everything done, release the capture
cap.release()
out.release()
cv2.destroyAllWindows()
